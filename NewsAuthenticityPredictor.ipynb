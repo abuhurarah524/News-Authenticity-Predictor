{
 "cells": [
  {
   "cell_type": "markdown",
   "metadata": {},
   "source": [
    "### Importing Libraries"
   ]
  },
  {
   "cell_type": "code",
   "execution_count": 1,
   "metadata": {},
   "outputs": [],
   "source": [
    "import re\n",
    "import nltk\n",
    "import string\n",
    "import pickle\n",
    "import imblearn\n",
    "import numpy as np\n",
    "import pandas as pd\n",
    "import seaborn as sns\n",
    "import matplotlib.pyplot as plt\n",
    "from nltk.corpus import stopwords\n",
    "from sklearn.linear_model import Ridge\n",
    "from nltk.stem import WordNetLemmatizer\n",
    "from sklearn.model_selection import train_test_split \n",
    "from sklearn.feature_extraction.text import CountVectorizer\n",
    "from sklearn.metrics import confusion_matrix, classification_report, accuracy_score, f1_score"
   ]
  },
  {
   "cell_type": "markdown",
   "metadata": {},
   "source": [
    "## Reading datasets"
   ]
  },
  {
   "cell_type": "code",
   "execution_count": 2,
   "metadata": {
    "scrolled": true
   },
   "outputs": [],
   "source": [
    "fake_dataset= pd.read_csv(\"fake_News.csv\",low_memory=False)\n",
    "true_dataset= pd.read_csv(\"true_News.csv\",low_memory=False)\n",
    "half_true=pd.read_csv(\"half-true.csv\",low_memory=False)\n",
    "mostly_false=pd.read_csv(\"mostly-false.csv\",low_memory=False)\n",
    "mostly_true=pd.read_csv(\"mostly-true.csv\",low_memory=False)\n",
    "pants_fire=pd.read_csv(\"pants-on-fire.csv\",low_memory=False)"
   ]
  },
  {
   "cell_type": "markdown",
   "metadata": {},
   "source": [
    "## Merging the datasets into one"
   ]
  },
  {
   "cell_type": "code",
   "execution_count": 3,
   "metadata": {},
   "outputs": [],
   "source": [
    "df = pd.concat([true_dataset,mostly_true,half_true,mostly_false,pants_fire,fake_dataset,]).reset_index(drop = True)"
   ]
  },
  {
   "cell_type": "code",
   "execution_count": 4,
   "metadata": {
    "scrolled": true
   },
   "outputs": [],
   "source": [
    "data=df[['headline','text','label']]"
   ]
  },
  {
   "cell_type": "markdown",
   "metadata": {},
   "source": [
    "## Shape of data"
   ]
  },
  {
   "cell_type": "code",
   "execution_count": 5,
   "metadata": {},
   "outputs": [
    {
     "data": {
      "text/plain": [
       "(27565, 3)"
      ]
     },
     "execution_count": 5,
     "metadata": {},
     "output_type": "execute_result"
    }
   ],
   "source": [
    "data.shape"
   ]
  },
  {
   "cell_type": "markdown",
   "metadata": {},
   "source": [
    "## Frequency Distribution of label"
   ]
  },
  {
   "cell_type": "code",
   "execution_count": 6,
   "metadata": {
    "scrolled": true
   },
   "outputs": [
    {
     "name": "stderr",
     "output_type": "stream",
     "text": [
      "C:\\ProgramData\\Anaconda3\\lib\\site-packages\\seaborn\\_decorators.py:36: FutureWarning: Pass the following variables as keyword args: x, y. From version 0.12, the only valid positional argument will be `data`, and passing other arguments without an explicit keyword will result in an error or misinterpretation.\n",
      "  warnings.warn(\n"
     ]
    },
    {
     "data": {
      "image/png": "[encoded data removed]",
      "text/plain": [
       "<Figure size 432x288 with 1 Axes>"
      ]
     },
     "metadata": {},
     "output_type": "display_data"
    }
   ],
   "source": [
    "%matplotlib inline\n",
    "carrier_count = df[\"label\"].value_counts()\n",
    "sns.set(style=\"darkgrid\")\n",
    "sns.barplot(carrier_count.index, carrier_count.values, alpha=0.9)\n",
    "plt.title('Frequency Distribution of category')\n",
    "plt.ylabel('Number of Occurrences', fontsize=12)\n",
    "plt.xlabel('Carrier', fontsize=12)\n",
    "plt.show()"
   ]
  },
  {
   "cell_type": "markdown",
   "metadata": {},
   "source": [
    "## Removing Null Values "
   ]
  },
  {
   "cell_type": "code",
   "execution_count": 7,
   "metadata": {},
   "outputs": [],
   "source": [
    "df=data.dropna( axis=0, how=\"any\", thresh=None, subset=None, inplace=False)"
   ]
  },
  {
   "cell_type": "markdown",
   "metadata": {},
   "source": [
    "## Checking Null Values"
   ]
  },
  {
   "cell_type": "code",
   "execution_count": 8,
   "metadata": {},
   "outputs": [
    {
     "data": {
      "text/plain": [
       "headline    0\n",
       "text        0\n",
       "label       0\n",
       "dtype: int64"
      ]
     },
     "execution_count": 8,
     "metadata": {},
     "output_type": "execute_result"
    }
   ],
   "source": [
    "df.isnull().sum()"
   ]
  },
  {
   "cell_type": "code",
   "execution_count": 9,
   "metadata": {},
   "outputs": [
    {
     "data": {
      "text/plain": [
       "(27565, 3)"
      ]
     },
     "execution_count": 9,
     "metadata": {},
     "output_type": "execute_result"
    }
   ],
   "source": [
    "df.shape"
   ]
  },
  {
   "cell_type": "markdown",
   "metadata": {},
   "source": [
    "## Combining Title and Text "
   ]
  },
  {
   "cell_type": "code",
   "execution_count": 10,
   "metadata": {
    "scrolled": true
   },
   "outputs": [
    {
     "data": {
      "text/html": [
       "<div>\n",
       "<style scoped>\n",
       "    .dataframe tbody tr th:only-of-type {\n",
       "        vertical-align: middle;\n",
       "    }\n",
       "\n",
       "    .dataframe tbody tr th {\n",
       "        vertical-align: top;\n",
       "    }\n",
       "\n",
       "    .dataframe thead th {\n",
       "        text-align: right;\n",
       "    }\n",
       "</style>\n",
       "<table border=\"1\" class=\"dataframe\">\n",
       "  <thead>\n",
       "    <tr style=\"text-align: right;\">\n",
       "      <th></th>\n",
       "      <th>headline</th>\n",
       "      <th>text</th>\n",
       "      <th>label</th>\n",
       "      <th>News Content</th>\n",
       "    </tr>\n",
       "  </thead>\n",
       "  <tbody>\n",
       "    <tr>\n",
       "      <th>0</th>\n",
       "      <td>As U.S. budget fight looms, Republicans flip t...</td>\n",
       "      <td>WASHINGTON (Reuters) - The head of a conservat...</td>\n",
       "      <td>True</td>\n",
       "      <td>As U.S. budget fight looms, Republicans flip t...</td>\n",
       "    </tr>\n",
       "    <tr>\n",
       "      <th>1</th>\n",
       "      <td>U.S. military to accept transgender recruits o...</td>\n",
       "      <td>WASHINGTON (Reuters) - Transgender people will...</td>\n",
       "      <td>True</td>\n",
       "      <td>U.S. military to accept transgender recruits o...</td>\n",
       "    </tr>\n",
       "    <tr>\n",
       "      <th>2</th>\n",
       "      <td>Senior U.S. Republican senator: 'Let Mr. Muell...</td>\n",
       "      <td>WASHINGTON (Reuters) - The special counsel inv...</td>\n",
       "      <td>True</td>\n",
       "      <td>Senior U.S. Republican senator: 'Let Mr. Muell...</td>\n",
       "    </tr>\n",
       "    <tr>\n",
       "      <th>3</th>\n",
       "      <td>FBI Russia probe helped by Australian diplomat...</td>\n",
       "      <td>WASHINGTON (Reuters) - Trump campaign adviser ...</td>\n",
       "      <td>True</td>\n",
       "      <td>FBI Russia probe helped by Australian diplomat...</td>\n",
       "    </tr>\n",
       "    <tr>\n",
       "      <th>4</th>\n",
       "      <td>Trump wants Postal Service to charge 'much mor...</td>\n",
       "      <td>SEATTLE/WASHINGTON (Reuters) - President Donal...</td>\n",
       "      <td>True</td>\n",
       "      <td>Trump wants Postal Service to charge 'much mor...</td>\n",
       "    </tr>\n",
       "  </tbody>\n",
       "</table>\n",
       "</div>"
      ],
      "text/plain": [
       "                                            headline  \\\n",
       "0  As U.S. budget fight looms, Republicans flip t...   \n",
       "1  U.S. military to accept transgender recruits o...   \n",
       "2  Senior U.S. Republican senator: 'Let Mr. Muell...   \n",
       "3  FBI Russia probe helped by Australian diplomat...   \n",
       "4  Trump wants Postal Service to charge 'much mor...   \n",
       "\n",
       "                                                text label  \\\n",
       "0  WASHINGTON (Reuters) - The head of a conservat...  True   \n",
       "1  WASHINGTON (Reuters) - Transgender people will...  True   \n",
       "2  WASHINGTON (Reuters) - The special counsel inv...  True   \n",
       "3  WASHINGTON (Reuters) - Trump campaign adviser ...  True   \n",
       "4  SEATTLE/WASHINGTON (Reuters) - President Donal...  True   \n",
       "\n",
       "                                        News Content  \n",
       "0  As U.S. budget fight looms, Republicans flip t...  \n",
       "1  U.S. military to accept transgender recruits o...  \n",
       "2  Senior U.S. Republican senator: 'Let Mr. Muell...  \n",
       "3  FBI Russia probe helped by Australian diplomat...  \n",
       "4  Trump wants Postal Service to charge 'much mor...  "
      ]
     },
     "execution_count": 10,
     "metadata": {},
     "output_type": "execute_result"
    }
   ],
   "source": [
    "df['News Content'] = df['headline'] +' '+ df['text']\n",
    "df.head()"
   ]
  },
  {
   "cell_type": "code",
   "execution_count": 11,
   "metadata": {},
   "outputs": [
    {
     "data": {
      "text/html": [
       "<div>\n",
       "<style scoped>\n",
       "    .dataframe tbody tr th:only-of-type {\n",
       "        vertical-align: middle;\n",
       "    }\n",
       "\n",
       "    .dataframe tbody tr th {\n",
       "        vertical-align: top;\n",
       "    }\n",
       "\n",
       "    .dataframe thead th {\n",
       "        text-align: right;\n",
       "    }\n",
       "</style>\n",
       "<table border=\"1\" class=\"dataframe\">\n",
       "  <thead>\n",
       "    <tr style=\"text-align: right;\">\n",
       "      <th></th>\n",
       "      <th>headline</th>\n",
       "      <th>text</th>\n",
       "      <th>label</th>\n",
       "      <th>News Content</th>\n",
       "    </tr>\n",
       "  </thead>\n",
       "  <tbody>\n",
       "    <tr>\n",
       "      <th>27560</th>\n",
       "      <td>President and First Lady Arrive in Texas: Serv...</td>\n",
       "      <td>Check out what s happening in Texas! President...</td>\n",
       "      <td>False</td>\n",
       "      <td>President and First Lady Arrive in Texas: Serv...</td>\n",
       "    </tr>\n",
       "    <tr>\n",
       "      <th>27561</th>\n",
       "      <td>Heaven’s Gatekeeper? Jesse Jackson Proclaims T...</td>\n",
       "      <td>Jesse Jackson thinks he s Heaven s gatekeeper ...</td>\n",
       "      <td>False</td>\n",
       "      <td>Heaven’s Gatekeeper? Jesse Jackson Proclaims T...</td>\n",
       "    </tr>\n",
       "    <tr>\n",
       "      <th>27562</th>\n",
       "      <td>First Lady Melania Trump Defies Critics…Rocks ...</td>\n",
       "      <td>The media will lose it again because Melania T...</td>\n",
       "      <td>False</td>\n",
       "      <td>First Lady Melania Trump Defies Critics…Rocks ...</td>\n",
       "    </tr>\n",
       "    <tr>\n",
       "      <th>27563</th>\n",
       "      <td>Watch Women’s March Activist: ‘Missing Black G...</td>\n",
       "      <td>Unbelievable! Women s March Activist went off ...</td>\n",
       "      <td>False</td>\n",
       "      <td>Watch Women’s March Activist: ‘Missing Black G...</td>\n",
       "    </tr>\n",
       "    <tr>\n",
       "      <th>27564</th>\n",
       "      <td>Classic! Kid Rock Hits Back At false News And ...</td>\n",
       "      <td>Not much to say after this classic response fr...</td>\n",
       "      <td>False</td>\n",
       "      <td>Classic! Kid Rock Hits Back At false News And ...</td>\n",
       "    </tr>\n",
       "  </tbody>\n",
       "</table>\n",
       "</div>"
      ],
      "text/plain": [
       "                                                headline  \\\n",
       "27560  President and First Lady Arrive in Texas: Serv...   \n",
       "27561  Heaven’s Gatekeeper? Jesse Jackson Proclaims T...   \n",
       "27562  First Lady Melania Trump Defies Critics…Rocks ...   \n",
       "27563  Watch Women’s March Activist: ‘Missing Black G...   \n",
       "27564  Classic! Kid Rock Hits Back At false News And ...   \n",
       "\n",
       "                                                    text  label  \\\n",
       "27560  Check out what s happening in Texas! President...  False   \n",
       "27561  Jesse Jackson thinks he s Heaven s gatekeeper ...  False   \n",
       "27562  The media will lose it again because Melania T...  False   \n",
       "27563  Unbelievable! Women s March Activist went off ...  False   \n",
       "27564  Not much to say after this classic response fr...  False   \n",
       "\n",
       "                                            News Content  \n",
       "27560  President and First Lady Arrive in Texas: Serv...  \n",
       "27561  Heaven’s Gatekeeper? Jesse Jackson Proclaims T...  \n",
       "27562  First Lady Melania Trump Defies Critics…Rocks ...  \n",
       "27563  Watch Women’s March Activist: ‘Missing Black G...  \n",
       "27564  Classic! Kid Rock Hits Back At false News And ...  "
      ]
     },
     "execution_count": 11,
     "metadata": {},
     "output_type": "execute_result"
    }
   ],
   "source": [
    "df.tail()"
   ]
  },
  {
   "cell_type": "markdown",
   "metadata": {},
   "source": [
    "## Randomize data"
   ]
  },
  {
   "cell_type": "code",
   "execution_count": 12,
   "metadata": {},
   "outputs": [],
   "source": [
    "df=df.sample(frac=1)"
   ]
  },
  {
   "cell_type": "code",
   "execution_count": 13,
   "metadata": {},
   "outputs": [
    {
     "data": {
      "text/html": [
       "<div>\n",
       "<style scoped>\n",
       "    .dataframe tbody tr th:only-of-type {\n",
       "        vertical-align: middle;\n",
       "    }\n",
       "\n",
       "    .dataframe tbody tr th {\n",
       "        vertical-align: top;\n",
       "    }\n",
       "\n",
       "    .dataframe thead th {\n",
       "        text-align: right;\n",
       "    }\n",
       "</style>\n",
       "<table border=\"1\" class=\"dataframe\">\n",
       "  <thead>\n",
       "    <tr style=\"text-align: right;\">\n",
       "      <th></th>\n",
       "      <th>headline</th>\n",
       "      <th>text</th>\n",
       "      <th>label</th>\n",
       "      <th>News Content</th>\n",
       "    </tr>\n",
       "  </thead>\n",
       "  <tbody>\n",
       "    <tr>\n",
       "      <th>3821</th>\n",
       "      <td>Trump says 'his decision' to fire FBI chief, c...</td>\n",
       "      <td>WASHINGTON (Reuters) - President Donald Trump ...</td>\n",
       "      <td>True</td>\n",
       "      <td>Trump says 'his decision' to fire FBI chief, c...</td>\n",
       "    </tr>\n",
       "    <tr>\n",
       "      <th>14621</th>\n",
       "      <td>No, voucher schools haven't raised property ta...</td>\n",
       "      <td>The system, which uses taxpayer money to send ...</td>\n",
       "      <td>MOSTLY-FALSE</td>\n",
       "      <td>No, voucher schools haven't raised property ta...</td>\n",
       "    </tr>\n",
       "    <tr>\n",
       "      <th>19624</th>\n",
       "      <td>Cowardly GOP Rep. Files Police Complaint Agai...</td>\n",
       "      <td>Republican members of Congress, who love claim...</td>\n",
       "      <td>False</td>\n",
       "      <td>Cowardly GOP Rep. Files Police Complaint Agai...</td>\n",
       "    </tr>\n",
       "    <tr>\n",
       "      <th>3686</th>\n",
       "      <td>Congressional office to release House healthca...</td>\n",
       "      <td>WASHINGTON (Reuters) - The Congressional Budge...</td>\n",
       "      <td>True</td>\n",
       "      <td>Congressional office to release House healthca...</td>\n",
       "    </tr>\n",
       "    <tr>\n",
       "      <th>22595</th>\n",
       "      <td>Trump Gets Called Out: Khizr Khan And Harry R...</td>\n",
       "      <td>In a speech on Monday, Donald Trump proposed a...</td>\n",
       "      <td>False</td>\n",
       "      <td>Trump Gets Called Out: Khizr Khan And Harry R...</td>\n",
       "    </tr>\n",
       "  </tbody>\n",
       "</table>\n",
       "</div>"
      ],
      "text/plain": [
       "                                                headline  \\\n",
       "3821   Trump says 'his decision' to fire FBI chief, c...   \n",
       "14621  No, voucher schools haven't raised property ta...   \n",
       "19624   Cowardly GOP Rep. Files Police Complaint Agai...   \n",
       "3686   Congressional office to release House healthca...   \n",
       "22595   Trump Gets Called Out: Khizr Khan And Harry R...   \n",
       "\n",
       "                                                    text         label  \\\n",
       "3821   WASHINGTON (Reuters) - President Donald Trump ...          True   \n",
       "14621  The system, which uses taxpayer money to send ...  MOSTLY-FALSE   \n",
       "19624  Republican members of Congress, who love claim...         False   \n",
       "3686   WASHINGTON (Reuters) - The Congressional Budge...          True   \n",
       "22595  In a speech on Monday, Donald Trump proposed a...         False   \n",
       "\n",
       "                                            News Content  \n",
       "3821   Trump says 'his decision' to fire FBI chief, c...  \n",
       "14621  No, voucher schools haven't raised property ta...  \n",
       "19624   Cowardly GOP Rep. Files Police Complaint Agai...  \n",
       "3686   Congressional office to release House healthca...  \n",
       "22595   Trump Gets Called Out: Khizr Khan And Harry R...  "
      ]
     },
     "execution_count": 13,
     "metadata": {},
     "output_type": "execute_result"
    }
   ],
   "source": [
    "df.head()"
   ]
  },
  {
   "cell_type": "code",
   "execution_count": 14,
   "metadata": {},
   "outputs": [
    {
     "data": {
      "text/html": [
       "<div>\n",
       "<style scoped>\n",
       "    .dataframe tbody tr th:only-of-type {\n",
       "        vertical-align: middle;\n",
       "    }\n",
       "\n",
       "    .dataframe tbody tr th {\n",
       "        vertical-align: top;\n",
       "    }\n",
       "\n",
       "    .dataframe thead th {\n",
       "        text-align: right;\n",
       "    }\n",
       "</style>\n",
       "<table border=\"1\" class=\"dataframe\">\n",
       "  <thead>\n",
       "    <tr style=\"text-align: right;\">\n",
       "      <th></th>\n",
       "      <th>headline</th>\n",
       "      <th>text</th>\n",
       "      <th>label</th>\n",
       "      <th>News Content</th>\n",
       "    </tr>\n",
       "  </thead>\n",
       "  <tbody>\n",
       "    <tr>\n",
       "      <th>15536</th>\n",
       "      <td>Are the 'overwhelming majority of violent crim...</td>\n",
       "      <td>It came after Hewitt brought up the shooting a...</td>\n",
       "      <td>MOSTLY-FALSE</td>\n",
       "      <td>Are the 'overwhelming majority of violent crim...</td>\n",
       "    </tr>\n",
       "    <tr>\n",
       "      <th>12140</th>\n",
       "      <td>Fact-checking Biden’s claim about number of st...</td>\n",
       "      <td>Former Vice President Joe Biden campaigned wit...</td>\n",
       "      <td>HALF-TRUE</td>\n",
       "      <td>Fact-checking Biden’s claim about number of st...</td>\n",
       "    </tr>\n",
       "    <tr>\n",
       "      <th>17675</th>\n",
       "      <td>GOP Senate Candidate Turns Out To Be A Disgus...</td>\n",
       "      <td>The Republican favorite in Alabama s Senate ra...</td>\n",
       "      <td>False</td>\n",
       "      <td>GOP Senate Candidate Turns Out To Be A Disgus...</td>\n",
       "    </tr>\n",
       "    <tr>\n",
       "      <th>2212</th>\n",
       "      <td>Trump says will speak with China's Xi on North...</td>\n",
       "      <td>WASHINGTON (Reuters) - President Donald Trump ...</td>\n",
       "      <td>True</td>\n",
       "      <td>Trump says will speak with China's Xi on North...</td>\n",
       "    </tr>\n",
       "    <tr>\n",
       "      <th>21361</th>\n",
       "      <td>Woman Gets Death Threats Just For Posting A P...</td>\n",
       "      <td>After last week s election, Hillary supporters...</td>\n",
       "      <td>False</td>\n",
       "      <td>Woman Gets Death Threats Just For Posting A P...</td>\n",
       "    </tr>\n",
       "  </tbody>\n",
       "</table>\n",
       "</div>"
      ],
      "text/plain": [
       "                                                headline  \\\n",
       "15536  Are the 'overwhelming majority of violent crim...   \n",
       "12140  Fact-checking Biden’s claim about number of st...   \n",
       "17675   GOP Senate Candidate Turns Out To Be A Disgus...   \n",
       "2212   Trump says will speak with China's Xi on North...   \n",
       "21361   Woman Gets Death Threats Just For Posting A P...   \n",
       "\n",
       "                                                    text         label  \\\n",
       "15536  It came after Hewitt brought up the shooting a...  MOSTLY-FALSE   \n",
       "12140  Former Vice President Joe Biden campaigned wit...     HALF-TRUE   \n",
       "17675  The Republican favorite in Alabama s Senate ra...         False   \n",
       "2212   WASHINGTON (Reuters) - President Donald Trump ...          True   \n",
       "21361  After last week s election, Hillary supporters...         False   \n",
       "\n",
       "                                            News Content  \n",
       "15536  Are the 'overwhelming majority of violent crim...  \n",
       "12140  Fact-checking Biden’s claim about number of st...  \n",
       "17675   GOP Senate Candidate Turns Out To Be A Disgus...  \n",
       "2212   Trump says will speak with China's Xi on North...  \n",
       "21361   Woman Gets Death Threats Just For Posting A P...  "
      ]
     },
     "execution_count": 14,
     "metadata": {},
     "output_type": "execute_result"
    }
   ],
   "source": [
    "df.tail()"
   ]
  },
  {
   "cell_type": "markdown",
   "metadata": {},
   "source": [
    "## Selecting Required Columns"
   ]
  },
  {
   "cell_type": "code",
   "execution_count": 15,
   "metadata": {},
   "outputs": [
    {
     "data": {
      "text/html": [
       "<div>\n",
       "<style scoped>\n",
       "    .dataframe tbody tr th:only-of-type {\n",
       "        vertical-align: middle;\n",
       "    }\n",
       "\n",
       "    .dataframe tbody tr th {\n",
       "        vertical-align: top;\n",
       "    }\n",
       "\n",
       "    .dataframe thead th {\n",
       "        text-align: right;\n",
       "    }\n",
       "</style>\n",
       "<table border=\"1\" class=\"dataframe\">\n",
       "  <thead>\n",
       "    <tr style=\"text-align: right;\">\n",
       "      <th></th>\n",
       "      <th>News Content</th>\n",
       "      <th>label</th>\n",
       "    </tr>\n",
       "  </thead>\n",
       "  <tbody>\n",
       "    <tr>\n",
       "      <th>3821</th>\n",
       "      <td>Trump says 'his decision' to fire FBI chief, c...</td>\n",
       "      <td>True</td>\n",
       "    </tr>\n",
       "    <tr>\n",
       "      <th>14621</th>\n",
       "      <td>No, voucher schools haven't raised property ta...</td>\n",
       "      <td>MOSTLY-FALSE</td>\n",
       "    </tr>\n",
       "    <tr>\n",
       "      <th>19624</th>\n",
       "      <td>Cowardly GOP Rep. Files Police Complaint Agai...</td>\n",
       "      <td>False</td>\n",
       "    </tr>\n",
       "    <tr>\n",
       "      <th>3686</th>\n",
       "      <td>Congressional office to release House healthca...</td>\n",
       "      <td>True</td>\n",
       "    </tr>\n",
       "    <tr>\n",
       "      <th>22595</th>\n",
       "      <td>Trump Gets Called Out: Khizr Khan And Harry R...</td>\n",
       "      <td>False</td>\n",
       "    </tr>\n",
       "  </tbody>\n",
       "</table>\n",
       "</div>"
      ],
      "text/plain": [
       "                                            News Content         label\n",
       "3821   Trump says 'his decision' to fire FBI chief, c...          True\n",
       "14621  No, voucher schools haven't raised property ta...  MOSTLY-FALSE\n",
       "19624   Cowardly GOP Rep. Files Police Complaint Agai...         False\n",
       "3686   Congressional office to release House healthca...          True\n",
       "22595   Trump Gets Called Out: Khizr Khan And Harry R...         False"
      ]
     },
     "execution_count": 15,
     "metadata": {},
     "output_type": "execute_result"
    }
   ],
   "source": [
    "df=df[['News Content','label']]\n",
    "df.head()"
   ]
  },
  {
   "cell_type": "markdown",
   "metadata": {},
   "source": [
    "### Cleaning data"
   ]
  },
  {
   "cell_type": "code",
   "execution_count": 16,
   "metadata": {},
   "outputs": [],
   "source": [
    "def wordopt(text):\n",
    "    text = text.lower()\n",
    "    text = re.sub('\\[.*?\\]', '', text)\n",
    "    text = re.sub(\"\\\\W\",\" \",text) \n",
    "    text = re.sub('https?://\\S+|www\\.\\S+', '', text)\n",
    "    text = re.sub('<.*?>+', '', text)\n",
    "    text = re.sub('[%s]' % re.escape(string.punctuation), '', text)\n",
    "    text = re.sub('\\n', '', text)\n",
    "    text = re.sub('\\w*\\d\\w*', '', text)    \n",
    "    return text"
   ]
  },
  {
   "cell_type": "code",
   "execution_count": 17,
   "metadata": {},
   "outputs": [],
   "source": [
    "df[\"News Content\"] = df[\"News Content\"].apply(wordopt)"
   ]
  },
  {
   "cell_type": "code",
   "execution_count": 18,
   "metadata": {},
   "outputs": [
    {
     "data": {
      "text/html": [
       "<div>\n",
       "<style scoped>\n",
       "    .dataframe tbody tr th:only-of-type {\n",
       "        vertical-align: middle;\n",
       "    }\n",
       "\n",
       "    .dataframe tbody tr th {\n",
       "        vertical-align: top;\n",
       "    }\n",
       "\n",
       "    .dataframe thead th {\n",
       "        text-align: right;\n",
       "    }\n",
       "</style>\n",
       "<table border=\"1\" class=\"dataframe\">\n",
       "  <thead>\n",
       "    <tr style=\"text-align: right;\">\n",
       "      <th></th>\n",
       "      <th>News Content</th>\n",
       "      <th>label</th>\n",
       "    </tr>\n",
       "  </thead>\n",
       "  <tbody>\n",
       "    <tr>\n",
       "      <th>3821</th>\n",
       "      <td>trump says  his decision  to fire fbi chief  c...</td>\n",
       "      <td>True</td>\n",
       "    </tr>\n",
       "    <tr>\n",
       "      <th>14621</th>\n",
       "      <td>no  voucher schools haven t raised property ta...</td>\n",
       "      <td>MOSTLY-FALSE</td>\n",
       "    </tr>\n",
       "    <tr>\n",
       "      <th>19624</th>\n",
       "      <td>cowardly gop rep  files police complaint agai...</td>\n",
       "      <td>False</td>\n",
       "    </tr>\n",
       "    <tr>\n",
       "      <th>3686</th>\n",
       "      <td>congressional office to release house healthca...</td>\n",
       "      <td>True</td>\n",
       "    </tr>\n",
       "    <tr>\n",
       "      <th>22595</th>\n",
       "      <td>trump gets called out  khizr khan and harry r...</td>\n",
       "      <td>False</td>\n",
       "    </tr>\n",
       "  </tbody>\n",
       "</table>\n",
       "</div>"
      ],
      "text/plain": [
       "                                            News Content         label\n",
       "3821   trump says  his decision  to fire fbi chief  c...          True\n",
       "14621  no  voucher schools haven t raised property ta...  MOSTLY-FALSE\n",
       "19624   cowardly gop rep  files police complaint agai...         False\n",
       "3686   congressional office to release house healthca...          True\n",
       "22595   trump gets called out  khizr khan and harry r...         False"
      ]
     },
     "execution_count": 18,
     "metadata": {},
     "output_type": "execute_result"
    }
   ],
   "source": [
    "df.head()"
   ]
  },
  {
   "cell_type": "markdown",
   "metadata": {},
   "source": [
    "## Tokenization"
   ]
  },
  {
   "cell_type": "code",
   "execution_count": 19,
   "metadata": {
    "scrolled": false
   },
   "outputs": [],
   "source": [
    "from nltk.tokenize import RegexpTokenizer\n",
    "tokenizer = RegexpTokenizer(r'\\w+')\n",
    "df[\"News Content\"] = df[\"News Content\"].apply(tokenizer.tokenize)"
   ]
  },
  {
   "cell_type": "code",
   "execution_count": 20,
   "metadata": {
    "scrolled": true
   },
   "outputs": [
    {
     "data": {
      "text/html": [
       "<div>\n",
       "<style scoped>\n",
       "    .dataframe tbody tr th:only-of-type {\n",
       "        vertical-align: middle;\n",
       "    }\n",
       "\n",
       "    .dataframe tbody tr th {\n",
       "        vertical-align: top;\n",
       "    }\n",
       "\n",
       "    .dataframe thead th {\n",
       "        text-align: right;\n",
       "    }\n",
       "</style>\n",
       "<table border=\"1\" class=\"dataframe\">\n",
       "  <thead>\n",
       "    <tr style=\"text-align: right;\">\n",
       "      <th></th>\n",
       "      <th>News Content</th>\n",
       "      <th>label</th>\n",
       "    </tr>\n",
       "  </thead>\n",
       "  <tbody>\n",
       "    <tr>\n",
       "      <th>3821</th>\n",
       "      <td>[trump, says, his, decision, to, fire, fbi, ch...</td>\n",
       "      <td>True</td>\n",
       "    </tr>\n",
       "    <tr>\n",
       "      <th>14621</th>\n",
       "      <td>[no, voucher, schools, haven, t, raised, prope...</td>\n",
       "      <td>MOSTLY-FALSE</td>\n",
       "    </tr>\n",
       "    <tr>\n",
       "      <th>19624</th>\n",
       "      <td>[cowardly, gop, rep, files, police, complaint,...</td>\n",
       "      <td>False</td>\n",
       "    </tr>\n",
       "    <tr>\n",
       "      <th>3686</th>\n",
       "      <td>[congressional, office, to, release, house, he...</td>\n",
       "      <td>True</td>\n",
       "    </tr>\n",
       "    <tr>\n",
       "      <th>22595</th>\n",
       "      <td>[trump, gets, called, out, khizr, khan, and, h...</td>\n",
       "      <td>False</td>\n",
       "    </tr>\n",
       "  </tbody>\n",
       "</table>\n",
       "</div>"
      ],
      "text/plain": [
       "                                            News Content         label\n",
       "3821   [trump, says, his, decision, to, fire, fbi, ch...          True\n",
       "14621  [no, voucher, schools, haven, t, raised, prope...  MOSTLY-FALSE\n",
       "19624  [cowardly, gop, rep, files, police, complaint,...         False\n",
       "3686   [congressional, office, to, release, house, he...          True\n",
       "22595  [trump, gets, called, out, khizr, khan, and, h...         False"
      ]
     },
     "execution_count": 20,
     "metadata": {},
     "output_type": "execute_result"
    }
   ],
   "source": [
    "df.head()"
   ]
  },
  {
   "cell_type": "markdown",
   "metadata": {},
   "source": [
    "## Removing stop words"
   ]
  },
  {
   "cell_type": "code",
   "execution_count": 21,
   "metadata": {
    "scrolled": true
   },
   "outputs": [],
   "source": [
    "stopwords=nltk.corpus.stopwords.words('english')\n",
    "def remove_stopwords(text):\n",
    "    text=[word for word in text if word not in stopwords]\n",
    "    return text"
   ]
  },
  {
   "cell_type": "code",
   "execution_count": 22,
   "metadata": {},
   "outputs": [
    {
     "data": {
      "text/html": [
       "<div>\n",
       "<style scoped>\n",
       "    .dataframe tbody tr th:only-of-type {\n",
       "        vertical-align: middle;\n",
       "    }\n",
       "\n",
       "    .dataframe tbody tr th {\n",
       "        vertical-align: top;\n",
       "    }\n",
       "\n",
       "    .dataframe thead th {\n",
       "        text-align: right;\n",
       "    }\n",
       "</style>\n",
       "<table border=\"1\" class=\"dataframe\">\n",
       "  <thead>\n",
       "    <tr style=\"text-align: right;\">\n",
       "      <th></th>\n",
       "      <th>News Content</th>\n",
       "      <th>label</th>\n",
       "    </tr>\n",
       "  </thead>\n",
       "  <tbody>\n",
       "    <tr>\n",
       "      <th>3821</th>\n",
       "      <td>[trump, says, decision, fire, fbi, chief, call...</td>\n",
       "      <td>True</td>\n",
       "    </tr>\n",
       "    <tr>\n",
       "      <th>14621</th>\n",
       "      <td>[voucher, schools, raised, property, taxes, si...</td>\n",
       "      <td>MOSTLY-FALSE</td>\n",
       "    </tr>\n",
       "    <tr>\n",
       "      <th>19624</th>\n",
       "      <td>[cowardly, gop, rep, files, police, complaint,...</td>\n",
       "      <td>False</td>\n",
       "    </tr>\n",
       "    <tr>\n",
       "      <th>3686</th>\n",
       "      <td>[congressional, office, release, house, health...</td>\n",
       "      <td>True</td>\n",
       "    </tr>\n",
       "    <tr>\n",
       "      <th>22595</th>\n",
       "      <td>[trump, gets, called, khizr, khan, harry, reid...</td>\n",
       "      <td>False</td>\n",
       "    </tr>\n",
       "  </tbody>\n",
       "</table>\n",
       "</div>"
      ],
      "text/plain": [
       "                                            News Content         label\n",
       "3821   [trump, says, decision, fire, fbi, chief, call...          True\n",
       "14621  [voucher, schools, raised, property, taxes, si...  MOSTLY-FALSE\n",
       "19624  [cowardly, gop, rep, files, police, complaint,...         False\n",
       "3686   [congressional, office, release, house, health...          True\n",
       "22595  [trump, gets, called, khizr, khan, harry, reid...         False"
      ]
     },
     "execution_count": 22,
     "metadata": {},
     "output_type": "execute_result"
    }
   ],
   "source": [
    "df['News Content']=df['News Content'].apply(lambda x:remove_stopwords(x))\n",
    "df.head()"
   ]
  },
  {
   "cell_type": "markdown",
   "metadata": {},
   "source": [
    "## Lemmatization"
   ]
  },
  {
   "cell_type": "code",
   "execution_count": 23,
   "metadata": {},
   "outputs": [],
   "source": [
    "wn= nltk.WordNetLemmatizer()\n",
    "def lemmatization(text):\n",
    "    text=[wn.lemmatize(word) for word in text]\n",
    "    return text"
   ]
  },
  {
   "cell_type": "code",
   "execution_count": 24,
   "metadata": {
    "scrolled": true
   },
   "outputs": [
    {
     "data": {
      "text/html": [
       "<div>\n",
       "<style scoped>\n",
       "    .dataframe tbody tr th:only-of-type {\n",
       "        vertical-align: middle;\n",
       "    }\n",
       "\n",
       "    .dataframe tbody tr th {\n",
       "        vertical-align: top;\n",
       "    }\n",
       "\n",
       "    .dataframe thead th {\n",
       "        text-align: right;\n",
       "    }\n",
       "</style>\n",
       "<table border=\"1\" class=\"dataframe\">\n",
       "  <thead>\n",
       "    <tr style=\"text-align: right;\">\n",
       "      <th></th>\n",
       "      <th>News Content</th>\n",
       "      <th>label</th>\n",
       "    </tr>\n",
       "  </thead>\n",
       "  <tbody>\n",
       "    <tr>\n",
       "      <th>3821</th>\n",
       "      <td>[trump, say, decision, fire, fbi, chief, call,...</td>\n",
       "      <td>True</td>\n",
       "    </tr>\n",
       "    <tr>\n",
       "      <th>14621</th>\n",
       "      <td>[voucher, school, raised, property, tax, since...</td>\n",
       "      <td>MOSTLY-FALSE</td>\n",
       "    </tr>\n",
       "    <tr>\n",
       "      <th>19624</th>\n",
       "      <td>[cowardly, gop, rep, file, police, complaint, ...</td>\n",
       "      <td>False</td>\n",
       "    </tr>\n",
       "    <tr>\n",
       "      <th>3686</th>\n",
       "      <td>[congressional, office, release, house, health...</td>\n",
       "      <td>True</td>\n",
       "    </tr>\n",
       "    <tr>\n",
       "      <th>22595</th>\n",
       "      <td>[trump, get, called, khizr, khan, harry, reid,...</td>\n",
       "      <td>False</td>\n",
       "    </tr>\n",
       "  </tbody>\n",
       "</table>\n",
       "</div>"
      ],
      "text/plain": [
       "                                            News Content         label\n",
       "3821   [trump, say, decision, fire, fbi, chief, call,...          True\n",
       "14621  [voucher, school, raised, property, tax, since...  MOSTLY-FALSE\n",
       "19624  [cowardly, gop, rep, file, police, complaint, ...         False\n",
       "3686   [congressional, office, release, house, health...          True\n",
       "22595  [trump, get, called, khizr, khan, harry, reid,...         False"
      ]
     },
     "execution_count": 24,
     "metadata": {},
     "output_type": "execute_result"
    }
   ],
   "source": [
    "df['News Content']=df['News Content'].apply(lambda x:lemmatization(x))\n",
    "df.head()"
   ]
  },
  {
   "cell_type": "markdown",
   "metadata": {},
   "source": [
    "## Features Extraction"
   ]
  },
  {
   "cell_type": "markdown",
   "metadata": {},
   "source": [
    "# Count Vectorization "
   ]
  },
  {
   "cell_type": "code",
   "execution_count": 25,
   "metadata": {},
   "outputs": [
    {
     "name": "stderr",
     "output_type": "stream",
     "text": [
      "IOPub data rate exceeded.\n",
      "The notebook server will temporarily stop sending output\n",
      "to the client in order to avoid crashing it.\n",
      "To change this limit, set the config variable\n",
      "`--NotebookApp.iopub_data_rate_limit`.\n",
      "\n",
      "Current values:\n",
      "NotebookApp.iopub_data_rate_limit=1000000.0 (bytes/sec)\n",
      "NotebookApp.rate_limit_window=3.0 (secs)\n",
      "\n"
     ]
    }
   ],
   "source": [
    "vectorizer = CountVectorizer(analyzer='word', ngram_range=(1, 2))\n",
    "X = vectorizer.fit_transform(df['News Content'].astype('str'))\n",
    "print(vectorizer.get_feature_names())"
   ]
  },
  {
   "cell_type": "markdown",
   "metadata": {},
   "source": [
    "## Label Encoding"
   ]
  },
  {
   "cell_type": "code",
   "execution_count": 26,
   "metadata": {},
   "outputs": [],
   "source": [
    "from sklearn.preprocessing import LabelEncoder\n",
    "labelencoder=LabelEncoder()\n",
    "df[\"encoded_label\"] = labelencoder.fit_transform(df['label'].astype(str)) "
   ]
  },
  {
   "cell_type": "code",
   "execution_count": 27,
   "metadata": {},
   "outputs": [
    {
     "data": {
      "text/html": [
       "<div>\n",
       "<style scoped>\n",
       "    .dataframe tbody tr th:only-of-type {\n",
       "        vertical-align: middle;\n",
       "    }\n",
       "\n",
       "    .dataframe tbody tr th {\n",
       "        vertical-align: top;\n",
       "    }\n",
       "\n",
       "    .dataframe thead th {\n",
       "        text-align: right;\n",
       "    }\n",
       "</style>\n",
       "<table border=\"1\" class=\"dataframe\">\n",
       "  <thead>\n",
       "    <tr style=\"text-align: right;\">\n",
       "      <th></th>\n",
       "      <th>News Content</th>\n",
       "      <th>label</th>\n",
       "      <th>encoded_label</th>\n",
       "    </tr>\n",
       "  </thead>\n",
       "  <tbody>\n",
       "    <tr>\n",
       "      <th>3821</th>\n",
       "      <td>[trump, say, decision, fire, fbi, chief, call,...</td>\n",
       "      <td>True</td>\n",
       "      <td>5</td>\n",
       "    </tr>\n",
       "    <tr>\n",
       "      <th>14621</th>\n",
       "      <td>[voucher, school, raised, property, tax, since...</td>\n",
       "      <td>MOSTLY-FALSE</td>\n",
       "      <td>2</td>\n",
       "    </tr>\n",
       "    <tr>\n",
       "      <th>19624</th>\n",
       "      <td>[cowardly, gop, rep, file, police, complaint, ...</td>\n",
       "      <td>False</td>\n",
       "      <td>0</td>\n",
       "    </tr>\n",
       "    <tr>\n",
       "      <th>3686</th>\n",
       "      <td>[congressional, office, release, house, health...</td>\n",
       "      <td>True</td>\n",
       "      <td>5</td>\n",
       "    </tr>\n",
       "    <tr>\n",
       "      <th>22595</th>\n",
       "      <td>[trump, get, called, khizr, khan, harry, reid,...</td>\n",
       "      <td>False</td>\n",
       "      <td>0</td>\n",
       "    </tr>\n",
       "    <tr>\n",
       "      <th>...</th>\n",
       "      <td>...</td>\n",
       "      <td>...</td>\n",
       "      <td>...</td>\n",
       "    </tr>\n",
       "    <tr>\n",
       "      <th>15536</th>\n",
       "      <td>[overwhelming, majority, violent, criminal, de...</td>\n",
       "      <td>MOSTLY-FALSE</td>\n",
       "      <td>2</td>\n",
       "    </tr>\n",
       "    <tr>\n",
       "      <th>12140</th>\n",
       "      <td>[fact, checking, biden, claim, number, student...</td>\n",
       "      <td>HALF-TRUE</td>\n",
       "      <td>1</td>\n",
       "    </tr>\n",
       "    <tr>\n",
       "      <th>17675</th>\n",
       "      <td>[gop, senate, candidate, turn, disgusting, chi...</td>\n",
       "      <td>False</td>\n",
       "      <td>0</td>\n",
       "    </tr>\n",
       "    <tr>\n",
       "      <th>2212</th>\n",
       "      <td>[trump, say, speak, china, xi, north, korea, f...</td>\n",
       "      <td>True</td>\n",
       "      <td>5</td>\n",
       "    </tr>\n",
       "    <tr>\n",
       "      <th>21361</th>\n",
       "      <td>[woman, get, death, threat, posting, picture, ...</td>\n",
       "      <td>False</td>\n",
       "      <td>0</td>\n",
       "    </tr>\n",
       "  </tbody>\n",
       "</table>\n",
       "<p>27565 rows × 3 columns</p>\n",
       "</div>"
      ],
      "text/plain": [
       "                                            News Content         label  \\\n",
       "3821   [trump, say, decision, fire, fbi, chief, call,...          True   \n",
       "14621  [voucher, school, raised, property, tax, since...  MOSTLY-FALSE   \n",
       "19624  [cowardly, gop, rep, file, police, complaint, ...         False   \n",
       "3686   [congressional, office, release, house, health...          True   \n",
       "22595  [trump, get, called, khizr, khan, harry, reid,...         False   \n",
       "...                                                  ...           ...   \n",
       "15536  [overwhelming, majority, violent, criminal, de...  MOSTLY-FALSE   \n",
       "12140  [fact, checking, biden, claim, number, student...     HALF-TRUE   \n",
       "17675  [gop, senate, candidate, turn, disgusting, chi...         False   \n",
       "2212   [trump, say, speak, china, xi, north, korea, f...          True   \n",
       "21361  [woman, get, death, threat, posting, picture, ...         False   \n",
       "\n",
       "       encoded_label  \n",
       "3821               5  \n",
       "14621              2  \n",
       "19624              0  \n",
       "3686               5  \n",
       "22595              0  \n",
       "...              ...  \n",
       "15536              2  \n",
       "12140              1  \n",
       "17675              0  \n",
       "2212               5  \n",
       "21361              0  \n",
       "\n",
       "[27565 rows x 3 columns]"
      ]
     },
     "execution_count": 27,
     "metadata": {},
     "output_type": "execute_result"
    }
   ],
   "source": [
    "df"
   ]
  },
  {
   "cell_type": "code",
   "execution_count": 28,
   "metadata": {},
   "outputs": [],
   "source": [
    "df.to_csv(\"preprocessed.csv\")"
   ]
  },
  {
   "cell_type": "markdown",
   "metadata": {},
   "source": [
    "## Feature selection from the extracted features of unigram"
   ]
  },
  {
   "cell_type": "code",
   "execution_count": 29,
   "metadata": {},
   "outputs": [
    {
     "name": "stdout",
     "output_type": "stream",
     "text": [
      "(27565, 2990677)\n"
     ]
    }
   ],
   "source": [
    "from sklearn.feature_selection import chi2\n",
    "from sklearn.feature_selection import SelectKBest\n",
    "\n",
    "\n",
    "selector = SelectKBest(chi2, k=100)\n",
    "selector.fit(X, df['encoded_label'])\n",
    "\n",
    "bigramdata = selector.transform(X)\n",
    "print(X.shape)"
   ]
  },
  {
   "cell_type": "markdown",
   "metadata": {},
   "source": [
    "# Dependent and Independent"
   ]
  },
  {
   "cell_type": "code",
   "execution_count": 30,
   "metadata": {},
   "outputs": [],
   "source": [
    "X=bigramdata\n",
    "y=np.array(df['encoded_label'])"
   ]
  },
  {
   "cell_type": "markdown",
   "metadata": {},
   "source": [
    "# K-Fold"
   ]
  },
  {
   "cell_type": "code",
   "execution_count": 31,
   "metadata": {},
   "outputs": [
    {
     "name": "stdout",
     "output_type": "stream",
     "text": [
      "KFold(n_splits=10, random_state=None, shuffle=False)\n"
     ]
    }
   ],
   "source": [
    "from sklearn.model_selection import KFold\n",
    "kf = KFold(n_splits=10)\n",
    "kf.get_n_splits(X)\n",
    "print(kf)"
   ]
  },
  {
   "cell_type": "code",
   "execution_count": 32,
   "metadata": {},
   "outputs": [
    {
     "name": "stdout",
     "output_type": "stream",
     "text": [
      "TRAIN: [ 2757  2758  2759 ... 27562 27563 27564] TEST: [   0    1    2 ... 2754 2755 2756]\n",
      "TRAIN: [    0     1     2 ... 27562 27563 27564] TEST: [2757 2758 2759 ... 5511 5512 5513]\n",
      "TRAIN: [    0     1     2 ... 27562 27563 27564] TEST: [5514 5515 5516 ... 8268 8269 8270]\n",
      "TRAIN: [    0     1     2 ... 27562 27563 27564] TEST: [ 8271  8272  8273 ... 11025 11026 11027]\n",
      "TRAIN: [    0     1     2 ... 27562 27563 27564] TEST: [11028 11029 11030 ... 13782 13783 13784]\n",
      "TRAIN: [    0     1     2 ... 27562 27563 27564] TEST: [13785 13786 13787 ... 16538 16539 16540]\n",
      "TRAIN: [    0     1     2 ... 27562 27563 27564] TEST: [16541 16542 16543 ... 19294 19295 19296]\n",
      "TRAIN: [    0     1     2 ... 27562 27563 27564] TEST: [19297 19298 19299 ... 22050 22051 22052]\n",
      "TRAIN: [    0     1     2 ... 27562 27563 27564] TEST: [22053 22054 22055 ... 24806 24807 24808]\n",
      "TRAIN: [    0     1     2 ... 24806 24807 24808] TEST: [24809 24810 24811 ... 27562 27563 27564]\n"
     ]
    }
   ],
   "source": [
    "for train_index, test_index in kf.split(X):\n",
    "    print(\"TRAIN:\", train_index, \"TEST:\", test_index)\n",
    "    X_train, X_test = X[train_index], X[test_index]\n",
    "    y_train, y_test = y[train_index], y[test_index]"
   ]
  },
  {
   "cell_type": "markdown",
   "metadata": {},
   "source": [
    "# Models Training"
   ]
  },
  {
   "cell_type": "markdown",
   "metadata": {},
   "source": [
    "## Multinomial NB"
   ]
  },
  {
   "cell_type": "code",
   "execution_count": 33,
   "metadata": {},
   "outputs": [
    {
     "name": "stdout",
     "output_type": "stream",
     "text": [
      "              precision    recall  f1-score   support\n",
      "\n",
      "           0       0.99      0.96      0.97       983\n",
      "           1       0.91      0.94      0.93       202\n",
      "           2       0.96      0.75      0.84       176\n",
      "           3       0.80      0.94      0.86       209\n",
      "           4       0.91      0.96      0.93       204\n",
      "           5       0.97      0.98      0.97       982\n",
      "\n",
      "    accuracy                           0.95      2756\n",
      "   macro avg       0.92      0.92      0.92      2756\n",
      "weighted avg       0.95      0.95      0.95      2756\n",
      "\n",
      "Accuracy :  95.03  %\n"
     ]
    }
   ],
   "source": [
    "from sklearn.naive_bayes import MultinomialNB\n",
    "nab=MultinomialNB()\n",
    "nab= nab.fit(X_train,y_train)\n",
    "pred=nab.predict(X_test)\n",
    "print(classification_report(y_test, pred))\n",
    "nab_accuracy = round((accuracy_score(y_test, pred)*100),2)\n",
    "\n",
    "print(\"Accuracy : \" , nab_accuracy , \" %\")"
   ]
  },
  {
   "cell_type": "code",
   "execution_count": 34,
   "metadata": {},
   "outputs": [
    {
     "data": {
      "text/plain": [
       "<AxesSubplot:>"
      ]
     },
     "execution_count": 34,
     "metadata": {},
     "output_type": "execute_result"
    },
    {
     "data": {
      "image/png": "[encoded data removed]",
      "text/plain": [
       "<Figure size 432x288 with 2 Axes>"
      ]
     },
     "metadata": {},
     "output_type": "display_data"
    }
   ],
   "source": [
    "matrix =confusion_matrix(y_test, pred)\n",
    "df_cm = pd.DataFrame(matrix, columns=['true', 'mostly_true','half_true','mostly_false','pants_fire','fake_dataset'], index=['true', 'mostly_true','half_true','mostly_false','pants_fire','fake_dataset'])\n",
    "sns.heatmap(df_cm, annot=True,cmap='Blues',fmt='g')"
   ]
  },
  {
   "cell_type": "markdown",
   "metadata": {},
   "source": [
    "# Random Forest"
   ]
  },
  {
   "cell_type": "code",
   "execution_count": 35,
   "metadata": {},
   "outputs": [
    {
     "name": "stdout",
     "output_type": "stream",
     "text": [
      "              precision    recall  f1-score   support\n",
      "\n",
      "           0       0.96      0.91      0.93       983\n",
      "           1       1.00      0.07      0.14       202\n",
      "           2       1.00      0.35      0.52       176\n",
      "           3       1.00      0.81      0.89       209\n",
      "           4       1.00      0.29      0.45       204\n",
      "           5       0.65      1.00      0.79       982\n",
      "\n",
      "    accuracy                           0.79      2756\n",
      "   macro avg       0.93      0.57      0.62      2756\n",
      "weighted avg       0.86      0.79      0.76      2756\n",
      "\n",
      "Accuracy :  79.1  %\n"
     ]
    }
   ],
   "source": [
    "from sklearn.ensemble import RandomForestClassifier\n",
    "rf=RandomForestClassifier(max_depth=2,random_state=0)\n",
    "rf=rf.fit(X_train,np.ravel(y_train))\n",
    "pred1=rf.predict(X_test)\n",
    "print(classification_report(y_test, pred1))\n",
    "rf_accuracy = round((accuracy_score(y_test, pred1)*100),2)\n",
    "print(\"Accuracy : \" , rf_accuracy , \" %\")"
   ]
  },
  {
   "cell_type": "code",
   "execution_count": 36,
   "metadata": {},
   "outputs": [
    {
     "data": {
      "text/plain": [
       "<AxesSubplot:>"
      ]
     },
     "execution_count": 36,
     "metadata": {},
     "output_type": "execute_result"
    },
    {
     "data": {
      "image/png": "[encoded data removed]",
      "text/plain": [
       "<Figure size 432x288 with 2 Axes>"
      ]
     },
     "metadata": {},
     "output_type": "display_data"
    }
   ],
   "source": [
    "matrix1 =confusion_matrix(y_test, pred1)\n",
    "df_cm = pd.DataFrame(matrix1, columns=['true', 'mostly_true','half_true','mostly_false','pants_fire','fake_dataset'], index=['true', 'mostly_true','half_true','mostly_false','pants_fire','fake_dataset'])\n",
    "sns.heatmap(df_cm, annot=True,cmap='Blues',fmt='g')"
   ]
  },
  {
   "cell_type": "markdown",
   "metadata": {},
   "source": [
    "# Decision Tree"
   ]
  },
  {
   "cell_type": "code",
   "execution_count": 37,
   "metadata": {},
   "outputs": [
    {
     "name": "stdout",
     "output_type": "stream",
     "text": [
      "              precision    recall  f1-score   support\n",
      "\n",
      "           0       0.99      0.99      0.99       983\n",
      "           1       0.98      0.97      0.98       202\n",
      "           2       0.96      0.99      0.97       176\n",
      "           3       0.99      0.95      0.97       209\n",
      "           4       0.98      0.97      0.97       204\n",
      "           5       0.99      1.00      1.00       982\n",
      "\n",
      "    accuracy                           0.99      2756\n",
      "   macro avg       0.98      0.98      0.98      2756\n",
      "weighted avg       0.99      0.99      0.99      2756\n",
      "\n",
      "[[972   0   2   1   4   4]\n",
      " [  2 196   2   1   1   0]\n",
      " [  1   0 174   1   0   0]\n",
      " [  4   3   2 199   0   1]\n",
      " [  5   0   1   0 198   0]\n",
      " [  0   0   0   0   0 982]]\n",
      "Accuracy :  98.73  %\n"
     ]
    }
   ],
   "source": [
    "from sklearn.tree import DecisionTreeClassifier\n",
    "dt = DecisionTreeClassifier(random_state=0) \n",
    "dt.fit(X_train,np.ravel(y_train)) \n",
    "pred2=dt.predict(X_test)\n",
    "print(classification_report(y_test, pred2))\n",
    "print(confusion_matrix(y_test, pred2))\n",
    "\n",
    "\n",
    "dt_accuracy = round((accuracy_score(y_test, pred2)*100),2)\n",
    "\n",
    "print(\"Accuracy : \" , dt_accuracy , \" %\")"
   ]
  },
  {
   "cell_type": "code",
   "execution_count": 38,
   "metadata": {},
   "outputs": [
    {
     "data": {
      "text/plain": [
       "<AxesSubplot:>"
      ]
     },
     "execution_count": 38,
     "metadata": {},
     "output_type": "execute_result"
    },
    {
     "data": {
      "image/png": "[encoded data removed]",
      "text/plain": [
       "<Figure size 432x288 with 2 Axes>"
      ]
     },
     "metadata": {},
     "output_type": "display_data"
    }
   ],
   "source": [
    "matrix2 =confusion_matrix(y_test, pred2)\n",
    "df_cm = pd.DataFrame(matrix2, columns=['true', 'mostly_true','half_true','mostly_false','pants_fire','fake_dataset'], index=['true', 'mostly_true','half_true','mostly_false','pants_fire','fake_dataset'])\n",
    "sns.heatmap(df_cm, annot=True,cmap='Blues',fmt='g')"
   ]
  },
  {
   "cell_type": "markdown",
   "metadata": {},
   "source": [
    "## SVM"
   ]
  },
  {
   "cell_type": "code",
   "execution_count": 39,
   "metadata": {},
   "outputs": [
    {
     "name": "stdout",
     "output_type": "stream",
     "text": [
      "              precision    recall  f1-score   support\n",
      "\n",
      "           0       0.99      1.00      0.99       983\n",
      "           1       0.98      0.98      0.98       202\n",
      "           2       0.98      0.99      0.99       176\n",
      "           3       0.99      0.95      0.97       209\n",
      "           4       1.00      0.98      0.99       204\n",
      "           5       1.00      1.00      1.00       982\n",
      "\n",
      "    accuracy                           0.99      2756\n",
      "   macro avg       0.99      0.98      0.99      2756\n",
      "weighted avg       0.99      0.99      0.99      2756\n",
      "\n",
      "[[982   1   0   0   0   0]\n",
      " [  2 197   2   0   0   1]\n",
      " [  0   0 175   1   0   0]\n",
      " [  7   3   1 198   0   0]\n",
      " [  4   0   0   0 200   0]\n",
      " [  0   0   0   0   0 982]]\n",
      "Accuracy :  99.2  %\n"
     ]
    },
    {
     "name": "stderr",
     "output_type": "stream",
     "text": [
      "C:\\ProgramData\\Anaconda3\\lib\\site-packages\\sklearn\\svm\\_base.py:985: ConvergenceWarning: Liblinear failed to converge, increase the number of iterations.\n",
      "  warnings.warn(\"Liblinear failed to converge, increase \"\n"
     ]
    }
   ],
   "source": [
    "from sklearn import svm\n",
    "svm = svm.LinearSVC() \n",
    "svm.fit(X_train,np.ravel(y_train)) \n",
    "pred3=svm.predict(X_test)\n",
    "print(classification_report(y_test, pred3))\n",
    "print(confusion_matrix(y_test, pred3))\n",
    "\n",
    "\n",
    "svm_accuracy = round((accuracy_score(y_test, pred3)*100),2)\n",
    "\n",
    "print(\"Accuracy : \" , svm_accuracy , \" %\")"
   ]
  },
  {
   "cell_type": "code",
   "execution_count": 40,
   "metadata": {},
   "outputs": [
    {
     "data": {
      "text/plain": [
       "<AxesSubplot:>"
      ]
     },
     "execution_count": 40,
     "metadata": {},
     "output_type": "execute_result"
    },
    {
     "data": {
      "image/png": "[encoded data removed]",
      "text/plain": [
       "<Figure size 432x288 with 2 Axes>"
      ]
     },
     "metadata": {},
     "output_type": "display_data"
    }
   ],
   "source": [
    "matrix3 =confusion_matrix(y_test, pred3)\n",
    "df_cm = pd.DataFrame(matrix3, columns=['true', 'mostly_true','half_true','mostly_false','pants_fire','fake_dataset'], index=['true', 'mostly_true','half_true','mostly_false','pants_fire','fake_dataset'])\n",
    "sns.heatmap(df_cm, annot=True,cmap='Blues',fmt='g')"
   ]
  },
  {
   "cell_type": "code",
   "execution_count": 41,
   "metadata": {},
   "outputs": [],
   "source": [
    "pickle.dump(svm, open('SVM_model.pkl', 'wb'))"
   ]
  },
  {
   "cell_type": "markdown",
   "metadata": {},
   "source": [
    "# Logistic Regression"
   ]
  },
  {
   "cell_type": "code",
   "execution_count": 42,
   "metadata": {
    "scrolled": true
   },
   "outputs": [
    {
     "name": "stdout",
     "output_type": "stream",
     "text": [
      "              precision    recall  f1-score   support\n",
      "\n",
      "           0       0.99      0.99      0.99       983\n",
      "           1       0.98      0.97      0.98       202\n",
      "           2       0.98      0.99      0.99       176\n",
      "           3       0.99      0.96      0.98       209\n",
      "           4       0.99      0.98      0.98       204\n",
      "           5       1.00      1.00      1.00       982\n",
      "\n",
      "    accuracy                           0.99      2756\n",
      "   macro avg       0.99      0.98      0.98      2756\n",
      "weighted avg       0.99      0.99      0.99      2756\n",
      "\n",
      "[[978   1   1   2   0   1]\n",
      " [  2 196   2   0   1   1]\n",
      " [  0   0 175   0   1   0]\n",
      " [  4   2   1 201   1   0]\n",
      " [  4   1   0   0 199   0]\n",
      " [  0   0   0   0   0 982]]\n",
      "Accuracy :  99.09  %\n"
     ]
    },
    {
     "name": "stderr",
     "output_type": "stream",
     "text": [
      "C:\\ProgramData\\Anaconda3\\lib\\site-packages\\sklearn\\linear_model\\_logistic.py:763: ConvergenceWarning: lbfgs failed to converge (status=1):\n",
      "STOP: TOTAL NO. of ITERATIONS REACHED LIMIT.\n",
      "\n",
      "Increase the number of iterations (max_iter) or scale the data as shown in:\n",
      "    https://scikit-learn.org/stable/modules/preprocessing.html\n",
      "Please also refer to the documentation for alternative solver options:\n",
      "    https://scikit-learn.org/stable/modules/linear_model.html#logistic-regression\n",
      "  n_iter_i = _check_optimize_result(\n"
     ]
    }
   ],
   "source": [
    "from sklearn.linear_model import LogisticRegression\n",
    "lg=LogisticRegression()\n",
    "lg.fit(X_train,np.ravel(y_train)) \n",
    "pred4=lg.predict(X_test)\n",
    "print(classification_report(y_test, pred4))\n",
    "print(confusion_matrix(y_test, pred4))\n",
    "\n",
    "\n",
    "lg_accuracy = round((accuracy_score(y_test, pred4)*100),2)\n",
    "\n",
    "print(\"Accuracy : \" , lg_accuracy , \" %\")"
   ]
  },
  {
   "cell_type": "code",
   "execution_count": 43,
   "metadata": {},
   "outputs": [
    {
     "data": {
      "text/plain": [
       "<AxesSubplot:>"
      ]
     },
     "execution_count": 43,
     "metadata": {},
     "output_type": "execute_result"
    },
    {
     "data": {
      "image/png": "[encoded data removed]",
      "text/plain": [
       "<Figure size 432x288 with 2 Axes>"
      ]
     },
     "metadata": {},
     "output_type": "display_data"
    }
   ],
   "source": [
    "matrix4 =confusion_matrix(y_test, pred4)\n",
    "df_cm = pd.DataFrame(matrix4, columns=['true', 'mostly_true','half_true','mostly_false','pants_fire','fake_dataset'], index=['true', 'mostly_true','half_true','mostly_false','pants_fire','fake_dataset'])\n",
    "sns.heatmap(df_cm, annot=True,cmap='Blues',fmt='g')"
   ]
  },
  {
   "cell_type": "code",
   "execution_count": 44,
   "metadata": {},
   "outputs": [],
   "source": [
    "pickle.dump(lg, open('Logistic_Regression_model.pkl', 'wb'))"
   ]
  },
  {
   "cell_type": "markdown",
   "metadata": {},
   "source": [
    "# Gradient Boosting Classifier"
   ]
  },
  {
   "cell_type": "code",
   "execution_count": 45,
   "metadata": {},
   "outputs": [
    {
     "name": "stdout",
     "output_type": "stream",
     "text": [
      "              precision    recall  f1-score   support\n",
      "\n",
      "           0       0.98      1.00      0.99       983\n",
      "           1       0.98      0.97      0.98       202\n",
      "           2       1.00      0.99      0.99       176\n",
      "           3       0.99      0.93      0.96       209\n",
      "           4       0.99      0.97      0.98       204\n",
      "           5       1.00      1.00      1.00       982\n",
      "\n",
      "    accuracy                           0.99      2756\n",
      "   macro avg       0.99      0.98      0.98      2756\n",
      "weighted avg       0.99      0.99      0.99      2756\n",
      "\n",
      "[[981   0   0   0   1   1]\n",
      " [  4 196   0   1   0   1]\n",
      " [  2   0 174   0   0   0]\n",
      " [ 10   3   0 195   1   0]\n",
      " [  7   0   0   0 197   0]\n",
      " [  0   0   0   0   0 982]]\n",
      "Accuracy :  98.88  %\n"
     ]
    }
   ],
   "source": [
    "from sklearn.ensemble import GradientBoostingClassifier\n",
    "gbc=GradientBoostingClassifier(n_estimators=100, learning_rate=1.0,max_depth=1, random_state=0)\n",
    "gbc.fit(X_train, y_train) \n",
    "pred5=gbc.predict(X_test)\n",
    "print(classification_report(y_test, pred5))\n",
    "print(confusion_matrix(y_test, pred5))\n",
    "\n",
    "\n",
    "gbc_accuracy = round((accuracy_score(y_test, pred5)*100),2)\n",
    "\n",
    "print(\"Accuracy : \" , gbc_accuracy , \" %\")"
   ]
  },
  {
   "cell_type": "code",
   "execution_count": 46,
   "metadata": {},
   "outputs": [
    {
     "data": {
      "text/plain": [
       "<AxesSubplot:>"
      ]
     },
     "execution_count": 46,
     "metadata": {},
     "output_type": "execute_result"
    },
    {
     "data": {
      "image/png": "[encoded data removed]",
      "text/plain": [
       "<Figure size 432x288 with 2 Axes>"
      ]
     },
     "metadata": {},
     "output_type": "display_data"
    }
   ],
   "source": [
    "matrix5 =confusion_matrix(y_test, pred5)\n",
    "df_cm = pd.DataFrame(matrix5, columns=['true', 'mostly_true','half_true','mostly_false','pants_fire','fake_dataset'], index=['true', 'mostly_true','half_true','mostly_false','pants_fire','fake_dataset'])\n",
    "sns.heatmap(df_cm, annot=True,cmap='Blues',fmt='g')"
   ]
  },
  {
   "cell_type": "markdown",
   "metadata": {},
   "source": [
    "### Ensemble Techniques"
   ]
  },
  {
   "cell_type": "code",
   "execution_count": 47,
   "metadata": {},
   "outputs": [],
   "source": [
    "from imblearn.ensemble import EasyEnsembleClassifier"
   ]
  },
  {
   "cell_type": "code",
   "execution_count": 48,
   "metadata": {},
   "outputs": [
    {
     "data": {
      "text/plain": [
       "EasyEnsembleClassifier()"
      ]
     },
     "execution_count": 48,
     "metadata": {},
     "output_type": "execute_result"
    }
   ],
   "source": [
    "easy=EasyEnsembleClassifier()\n",
    "easy.fit(X_train,y_train)"
   ]
  },
  {
   "cell_type": "code",
   "execution_count": 49,
   "metadata": {},
   "outputs": [
    {
     "name": "stdout",
     "output_type": "stream",
     "text": [
      "[[970   5   2   1   0   5]\n",
      " [  0 198   3   1   0   0]\n",
      " [  0   1 175   0   0   0]\n",
      " [  1   7   2 199   0   0]\n",
      " [  2   2   0   1 199   0]\n",
      " [  0   0   0   0   0 982]]\n",
      "0.9880261248185777\n",
      "              precision    recall  f1-score   support\n",
      "\n",
      "           0       1.00      0.99      0.99       983\n",
      "           1       0.93      0.98      0.95       202\n",
      "           2       0.96      0.99      0.98       176\n",
      "           3       0.99      0.95      0.97       209\n",
      "           4       1.00      0.98      0.99       204\n",
      "           5       0.99      1.00      1.00       982\n",
      "\n",
      "    accuracy                           0.99      2756\n",
      "   macro avg       0.98      0.98      0.98      2756\n",
      "weighted avg       0.99      0.99      0.99      2756\n",
      "\n",
      "Accuracy :  98.8  %\n"
     ]
    }
   ],
   "source": [
    "pred6=easy.predict(X_test)\n",
    "print(confusion_matrix(y_test,pred6))\n",
    "print(accuracy_score(y_test,pred6))\n",
    "print(classification_report(y_test,pred6))\n",
    "ensemble_accuracy = round((accuracy_score(y_test, pred6)*100),2)\n",
    "\n",
    "print(\"Accuracy : \" , ensemble_accuracy , \" %\")"
   ]
  },
  {
   "cell_type": "code",
   "execution_count": 50,
   "metadata": {},
   "outputs": [
    {
     "data": {
      "text/plain": [
       "<AxesSubplot:>"
      ]
     },
     "execution_count": 50,
     "metadata": {},
     "output_type": "execute_result"
    },
    {
     "data": {
      "image/png": "[encoded data removed]",
      "text/plain": [
       "<Figure size 432x288 with 2 Axes>"
      ]
     },
     "metadata": {},
     "output_type": "display_data"
    }
   ],
   "source": [
    "matrix6 =confusion_matrix(y_test, pred6)\n",
    "df_cm = pd.DataFrame(matrix6, columns=['true', 'mostly_true','half_true','mostly_false','pants_fire','fake_dataset'], index=['true', 'mostly_true','half_true','mostly_false','pants_fire','fake_dataset'])\n",
    "sns.heatmap(df_cm, annot=True,cmap='Blues',fmt='g')"
   ]
  },
  {
   "cell_type": "markdown",
   "metadata": {},
   "source": [
    "# Accuracies"
   ]
  },
  {
   "cell_type": "code",
   "execution_count": 51,
   "metadata": {},
   "outputs": [
    {
     "name": "stdout",
     "output_type": "stream",
     "text": [
      "Rank of models by Accuracies \n"
     ]
    },
    {
     "data": {
      "text/html": [
       "<div>\n",
       "<style scoped>\n",
       "    .dataframe tbody tr th:only-of-type {\n",
       "        vertical-align: middle;\n",
       "    }\n",
       "\n",
       "    .dataframe tbody tr th {\n",
       "        vertical-align: top;\n",
       "    }\n",
       "\n",
       "    .dataframe thead th {\n",
       "        text-align: right;\n",
       "    }\n",
       "</style>\n",
       "<table border=\"1\" class=\"dataframe\">\n",
       "  <thead>\n",
       "    <tr style=\"text-align: right;\">\n",
       "      <th></th>\n",
       "      <th>Models</th>\n",
       "      <th>Accuracies</th>\n",
       "    </tr>\n",
       "  </thead>\n",
       "  <tbody>\n",
       "    <tr>\n",
       "      <th>3</th>\n",
       "      <td>SVM</td>\n",
       "      <td>99.20</td>\n",
       "    </tr>\n",
       "    <tr>\n",
       "      <th>4</th>\n",
       "      <td>Logistic Regression</td>\n",
       "      <td>99.09</td>\n",
       "    </tr>\n",
       "    <tr>\n",
       "      <th>5</th>\n",
       "      <td>Gradient Boosting Classifier</td>\n",
       "      <td>98.88</td>\n",
       "    </tr>\n",
       "    <tr>\n",
       "      <th>6</th>\n",
       "      <td>Easy Ensembling Classifier</td>\n",
       "      <td>98.80</td>\n",
       "    </tr>\n",
       "    <tr>\n",
       "      <th>2</th>\n",
       "      <td>Decision Tree</td>\n",
       "      <td>98.73</td>\n",
       "    </tr>\n",
       "    <tr>\n",
       "      <th>0</th>\n",
       "      <td>MultinomialNB</td>\n",
       "      <td>95.03</td>\n",
       "    </tr>\n",
       "    <tr>\n",
       "      <th>1</th>\n",
       "      <td>Random Forest</td>\n",
       "      <td>79.10</td>\n",
       "    </tr>\n",
       "  </tbody>\n",
       "</table>\n",
       "</div>"
      ],
      "text/plain": [
       "                         Models  Accuracies\n",
       "3                           SVM       99.20\n",
       "4           Logistic Regression       99.09\n",
       "5  Gradient Boosting Classifier       98.88\n",
       "6    Easy Ensembling Classifier       98.80\n",
       "2                 Decision Tree       98.73\n",
       "0                 MultinomialNB       95.03\n",
       "1                 Random Forest       79.10"
      ]
     },
     "execution_count": 51,
     "metadata": {},
     "output_type": "execute_result"
    }
   ],
   "source": [
    "Models = pd.DataFrame({\n",
    "    'Models': ['MultinomialNB','Random Forest','Decision Tree','SVM','Logistic Regression','Gradient Boosting Classifier','Easy Ensembling Classifier'],\n",
    "    \n",
    "    'Accuracies': np.round([nab_accuracy,rf_accuracy,dt_accuracy,svm_accuracy,lg_accuracy,gbc_accuracy,ensemble_accuracy],2)\n",
    "                     })\n",
    "print('Rank of models by Accuracies ')\n",
    "Models.sort_values(by=['Accuracies'],ascending=False)"
   ]
  },
  {
   "cell_type": "markdown",
   "metadata": {},
   "source": [
    "# Imbalance data Techniques"
   ]
  },
  {
   "cell_type": "markdown",
   "metadata": {},
   "source": [
    "### Weight changing via Balanced approach"
   ]
  },
  {
   "cell_type": "code",
   "execution_count": 52,
   "metadata": {},
   "outputs": [
    {
     "name": "stderr",
     "output_type": "stream",
     "text": [
      "C:\\ProgramData\\Anaconda3\\lib\\site-packages\\sklearn\\svm\\_base.py:985: ConvergenceWarning: Liblinear failed to converge, increase the number of iterations.\n",
      "  warnings.warn(\"Liblinear failed to converge, increase \"\n"
     ]
    },
    {
     "data": {
      "text/plain": [
       "LinearSVC(class_weight='balanced')"
      ]
     },
     "execution_count": 52,
     "metadata": {},
     "output_type": "execute_result"
    }
   ],
   "source": [
    "from sklearn import svm\n",
    "weight = svm.LinearSVC( class_weight='balanced')\n",
    "weight.fit(X_train,y_train)"
   ]
  },
  {
   "cell_type": "code",
   "execution_count": 53,
   "metadata": {},
   "outputs": [
    {
     "name": "stdout",
     "output_type": "stream",
     "text": [
      "[[980   1   1   0   1   0]\n",
      " [  2 197   2   0   0   1]\n",
      " [  0   0 175   0   1   0]\n",
      " [  3   3   1 201   1   0]\n",
      " [  4   0   0   0 200   0]\n",
      " [  0   0   0   0   0 982]]\n",
      "0.9923802612481858\n",
      "              precision    recall  f1-score   support\n",
      "\n",
      "           0       0.99      1.00      0.99       983\n",
      "           1       0.98      0.98      0.98       202\n",
      "           2       0.98      0.99      0.99       176\n",
      "           3       1.00      0.96      0.98       209\n",
      "           4       0.99      0.98      0.98       204\n",
      "           5       1.00      1.00      1.00       982\n",
      "\n",
      "    accuracy                           0.99      2756\n",
      "   macro avg       0.99      0.98      0.99      2756\n",
      "weighted avg       0.99      0.99      0.99      2756\n",
      "\n",
      "Accuracy :  99.24  %\n"
     ]
    }
   ],
   "source": [
    "y_pred0=weight.predict(X_test)\n",
    "print(confusion_matrix(y_test,y_pred0))\n",
    "print(accuracy_score(y_test,y_pred0))\n",
    "print(classification_report(y_test,y_pred0))\n",
    "Bweight_changing_accuracy = round((accuracy_score(y_test, y_pred0)*100),2)\n",
    "print(\"Accuracy : \" , Bweight_changing_accuracy , \" %\")"
   ]
  },
  {
   "cell_type": "code",
   "execution_count": 54,
   "metadata": {},
   "outputs": [
    {
     "data": {
      "text/plain": [
       "<AxesSubplot:>"
      ]
     },
     "execution_count": 54,
     "metadata": {},
     "output_type": "execute_result"
    },
    {
     "data": {
      "image/png": "[encoded data removed]",
      "text/plain": [
       "<Figure size 432x288 with 2 Axes>"
      ]
     },
     "metadata": {},
     "output_type": "display_data"
    }
   ],
   "source": [
    "matrix7 =confusion_matrix(y_test, y_pred0)\n",
    "df_cm = pd.DataFrame(matrix7, columns=['true', 'mostly_true','half_true','mostly_false','pants_fire','fake_dataset'], index=['true', 'mostly_true','half_true','mostly_false','pants_fire','fake_dataset'])\n",
    "sns.heatmap(df_cm, annot=True,cmap='Blues',fmt='g')"
   ]
  },
  {
   "cell_type": "code",
   "execution_count": 83,
   "metadata": {},
   "outputs": [],
   "source": [
    "pickle.dump(weight, open('balanced_weight_model.pkl', 'wb'))"
   ]
  },
  {
   "cell_type": "markdown",
   "metadata": {},
   "source": [
    "# Manual Weight Change"
   ]
  },
  {
   "cell_type": "code",
   "execution_count": 55,
   "metadata": {},
   "outputs": [
    {
     "name": "stderr",
     "output_type": "stream",
     "text": [
      "C:\\ProgramData\\Anaconda3\\lib\\site-packages\\sklearn\\svm\\_base.py:985: ConvergenceWarning: Liblinear failed to converge, increase the number of iterations.\n",
      "  warnings.warn(\"Liblinear failed to converge, increase \"\n"
     ]
    },
    {
     "data": {
      "text/plain": [
       "LinearSVC(class_weight={0: 5, 1: 1, 2: 1, 3: 1, 4: 1, 5: 5})"
      ]
     },
     "execution_count": 55,
     "metadata": {},
     "output_type": "execute_result"
    }
   ],
   "source": [
    "Mweight=svm.LinearSVC( class_weight={0:5,1:1,2:1,3:1,4:1,5:5})\n",
    "Mweight.fit(X_train,y_train)"
   ]
  },
  {
   "cell_type": "code",
   "execution_count": 56,
   "metadata": {},
   "outputs": [
    {
     "name": "stdout",
     "output_type": "stream",
     "text": [
      "[[982   1   0   0   0   0]\n",
      " [  2 197   2   0   0   1]\n",
      " [  1   0 175   0   0   0]\n",
      " [  8   2   1 197   1   0]\n",
      " [  6   0   0   0 198   0]\n",
      " [  0   0   0   0   0 982]]\n",
      "0.9909288824383164\n",
      "              precision    recall  f1-score   support\n",
      "\n",
      "           0       0.98      1.00      0.99       983\n",
      "           1       0.98      0.98      0.98       202\n",
      "           2       0.98      0.99      0.99       176\n",
      "           3       1.00      0.94      0.97       209\n",
      "           4       0.99      0.97      0.98       204\n",
      "           5       1.00      1.00      1.00       982\n",
      "\n",
      "    accuracy                           0.99      2756\n",
      "   macro avg       0.99      0.98      0.99      2756\n",
      "weighted avg       0.99      0.99      0.99      2756\n",
      "\n",
      "Accuracy :  99.09  %\n"
     ]
    }
   ],
   "source": [
    "y_pred1=Mweight.predict(X_test)\n",
    "print(confusion_matrix(y_test,y_pred1))\n",
    "print(accuracy_score(y_test,y_pred1))\n",
    "print(classification_report(y_test,y_pred1))\n",
    "Mweight_changing_accuracy = round((accuracy_score(y_test, y_pred1)*100),2)\n",
    "\n",
    "print(\"Accuracy : \" , Mweight_changing_accuracy , \" %\")"
   ]
  },
  {
   "cell_type": "code",
   "execution_count": 57,
   "metadata": {},
   "outputs": [
    {
     "data": {
      "text/plain": [
       "<AxesSubplot:>"
      ]
     },
     "execution_count": 57,
     "metadata": {},
     "output_type": "execute_result"
    },
    {
     "data": {
      "image/png": "[encoded data removed]",
      "text/plain": [
       "<Figure size 432x288 with 2 Axes>"
      ]
     },
     "metadata": {},
     "output_type": "display_data"
    }
   ],
   "source": [
    "matrix8 =confusion_matrix(y_test, y_pred1)\n",
    "df_cm = pd.DataFrame(matrix8, columns=['true', 'mostly_true','half_true','mostly_false','pants_fire','fake_dataset'], index=['true', 'mostly_true','half_true','mostly_false','pants_fire','fake_dataset'])\n",
    "sns.heatmap(df_cm, annot=True,cmap='Blues',fmt='g')"
   ]
  },
  {
   "cell_type": "code",
   "execution_count": 58,
   "metadata": {},
   "outputs": [],
   "source": [
    "from collections import Counter\n",
    "from imblearn.over_sampling import RandomOverSampler\n",
    "from imblearn.under_sampling import RandomUnderSampler\n",
    "from imblearn.combine import SMOTETomek"
   ]
  },
  {
   "cell_type": "markdown",
   "metadata": {},
   "source": [
    "### Under Sampling"
   ]
  },
  {
   "cell_type": "code",
   "execution_count": 59,
   "metadata": {},
   "outputs": [
    {
     "name": "stdout",
     "output_type": "stream",
     "text": [
      "The number of classes before fit Counter({0: 9018, 5: 9012, 1: 1857, 3: 1775, 4: 1650, 2: 1497})\n",
      "The number of classes after fit Counter({0: 1497, 1: 1497, 2: 1497, 3: 1497, 4: 1497, 5: 1497})\n"
     ]
    }
   ],
   "source": [
    "from collections import Counter\n",
    "from imblearn.under_sampling import RandomUnderSampler  \n",
    "under_sampler = RandomUnderSampler()\n",
    "X_train_ns,y_train_ns=under_sampler.fit_resample(X_train,y_train)\n",
    "print(\"The number of classes before fit {}\".format(Counter(y_train)))\n",
    "print(\"The number of classes after fit {}\".format(Counter(y_train_ns)))"
   ]
  },
  {
   "cell_type": "code",
   "execution_count": 60,
   "metadata": {},
   "outputs": [
    {
     "name": "stderr",
     "output_type": "stream",
     "text": [
      "C:\\ProgramData\\Anaconda3\\lib\\site-packages\\sklearn\\svm\\_base.py:985: ConvergenceWarning: Liblinear failed to converge, increase the number of iterations.\n",
      "  warnings.warn(\"Liblinear failed to converge, increase \"\n"
     ]
    },
    {
     "data": {
      "text/plain": [
       "LinearSVC()"
      ]
     },
     "execution_count": 60,
     "metadata": {},
     "output_type": "execute_result"
    }
   ],
   "source": [
    "under=svm.LinearSVC()\n",
    "under.fit(X_train_ns,y_train_ns)"
   ]
  },
  {
   "cell_type": "code",
   "execution_count": 61,
   "metadata": {},
   "outputs": [
    {
     "name": "stdout",
     "output_type": "stream",
     "text": [
      "[[973   5   1   2   2   0]\n",
      " [  1 198   2   0   1   0]\n",
      " [  0   0 175   1   0   0]\n",
      " [  0   5   2 200   2   0]\n",
      " [  2   1   0   0 201   0]\n",
      " [  1   0   0   0   0 981]]\n",
      "0.9898403483309144\n",
      "              precision    recall  f1-score   support\n",
      "\n",
      "           0       1.00      0.99      0.99       983\n",
      "           1       0.95      0.98      0.96       202\n",
      "           2       0.97      0.99      0.98       176\n",
      "           3       0.99      0.96      0.97       209\n",
      "           4       0.98      0.99      0.98       204\n",
      "           5       1.00      1.00      1.00       982\n",
      "\n",
      "    accuracy                           0.99      2756\n",
      "   macro avg       0.98      0.98      0.98      2756\n",
      "weighted avg       0.99      0.99      0.99      2756\n",
      "\n",
      "Accuracy :  98.98  %\n"
     ]
    }
   ],
   "source": [
    "y_pred2=under.predict(X_test)\n",
    "print(confusion_matrix(y_test,y_pred2))\n",
    "print(accuracy_score(y_test,y_pred2))\n",
    "print(classification_report(y_test,y_pred2))\n",
    "underSample_accuracy = round((accuracy_score(y_test, y_pred2)*100),2)\n",
    "\n",
    "print(\"Accuracy : \" ,underSample_accuracy , \" %\")"
   ]
  },
  {
   "cell_type": "code",
   "execution_count": 62,
   "metadata": {},
   "outputs": [
    {
     "data": {
      "text/plain": [
       "<AxesSubplot:>"
      ]
     },
     "execution_count": 62,
     "metadata": {},
     "output_type": "execute_result"
    },
    {
     "data": {
      "image/png": "[encoded data removed]",
      "text/plain": [
       "<Figure size 432x288 with 2 Axes>"
      ]
     },
     "metadata": {},
     "output_type": "display_data"
    }
   ],
   "source": [
    "matrix9 =confusion_matrix(y_test, y_pred2)\n",
    "df_cm = pd.DataFrame(matrix9, columns=['true', 'mostly_true','half_true','mostly_false','pants_fire','fake_dataset'], index=['true', 'mostly_true','half_true','mostly_false','pants_fire','fake_dataset'])\n",
    "sns.heatmap(df_cm, annot=True,cmap='Blues',fmt='g')"
   ]
  },
  {
   "cell_type": "markdown",
   "metadata": {},
   "source": [
    "### Over Sampling"
   ]
  },
  {
   "cell_type": "code",
   "execution_count": 63,
   "metadata": {},
   "outputs": [
    {
     "name": "stdout",
     "output_type": "stream",
     "text": [
      "The number of classes before fit Counter({0: 9018, 5: 9012, 1: 1857, 3: 1775, 4: 1650, 2: 1497})\n",
      "The number of classes after fit Counter({5: 9018, 2: 9018, 0: 9018, 1: 9018, 4: 9018, 3: 9018})\n"
     ]
    }
   ],
   "source": [
    "os=RandomOverSampler()\n",
    "X_train_ns,y_train_ns=os.fit_resample(X_train,y_train)\n",
    "print(\"The number of classes before fit {}\".format(Counter(y_train)))\n",
    "print(\"The number of classes after fit {}\".format(Counter(y_train_ns)))"
   ]
  },
  {
   "cell_type": "code",
   "execution_count": 64,
   "metadata": {},
   "outputs": [
    {
     "name": "stderr",
     "output_type": "stream",
     "text": [
      "C:\\ProgramData\\Anaconda3\\lib\\site-packages\\sklearn\\svm\\_base.py:985: ConvergenceWarning: Liblinear failed to converge, increase the number of iterations.\n",
      "  warnings.warn(\"Liblinear failed to converge, increase \"\n"
     ]
    },
    {
     "data": {
      "text/plain": [
       "LinearSVC()"
      ]
     },
     "execution_count": 64,
     "metadata": {},
     "output_type": "execute_result"
    }
   ],
   "source": [
    "over=svm.LinearSVC()\n",
    "over.fit(X_train_ns,y_train_ns)"
   ]
  },
  {
   "cell_type": "code",
   "execution_count": 65,
   "metadata": {},
   "outputs": [
    {
     "name": "stdout",
     "output_type": "stream",
     "text": [
      "[[972   6   1   0   4   0]\n",
      " [  2 197   2   0   0   1]\n",
      " [  0   0 175   0   1   0]\n",
      " [  1   6   1 200   1   0]\n",
      " [  3   1   0   0 200   0]\n",
      " [  0   0   0   0   0 982]]\n",
      "0.9891146589259797\n",
      "              precision    recall  f1-score   support\n",
      "\n",
      "           0       0.99      0.99      0.99       983\n",
      "           1       0.94      0.98      0.96       202\n",
      "           2       0.98      0.99      0.99       176\n",
      "           3       1.00      0.96      0.98       209\n",
      "           4       0.97      0.98      0.98       204\n",
      "           5       1.00      1.00      1.00       982\n",
      "\n",
      "    accuracy                           0.99      2756\n",
      "   macro avg       0.98      0.98      0.98      2756\n",
      "weighted avg       0.99      0.99      0.99      2756\n",
      "\n",
      "Accuracy :  98.91  %\n"
     ]
    }
   ],
   "source": [
    "y_pred3=over.predict(X_test)\n",
    "print(confusion_matrix(y_test,y_pred3))\n",
    "print(accuracy_score(y_test,y_pred3))\n",
    "print(classification_report(y_test,y_pred3))\n",
    "overSample_accuracy = round((accuracy_score(y_test, y_pred3)*100),2)\n",
    "\n",
    "print(\"Accuracy : \" , overSample_accuracy , \" %\")"
   ]
  },
  {
   "cell_type": "code",
   "execution_count": 66,
   "metadata": {},
   "outputs": [
    {
     "data": {
      "text/plain": [
       "<AxesSubplot:>"
      ]
     },
     "execution_count": 66,
     "metadata": {},
     "output_type": "execute_result"
    },
    {
     "data": {
      "image/png": "[encoded data removed]",
      "text/plain": [
       "<Figure size 432x288 with 2 Axes>"
      ]
     },
     "metadata": {},
     "output_type": "display_data"
    }
   ],
   "source": [
    "matrix10 =confusion_matrix(y_test, y_pred3)\n",
    "df_cm = pd.DataFrame(matrix10, columns=['true', 'mostly_true','half_true','mostly_false','pants_fire','fake_dataset'], index=['true', 'mostly_true','half_true','mostly_false','pants_fire','fake_dataset'])\n",
    "sns.heatmap(df_cm, annot=True,cmap='Blues',fmt='g')"
   ]
  },
  {
   "cell_type": "markdown",
   "metadata": {},
   "source": [
    "# SmoteTomek"
   ]
  },
  {
   "cell_type": "code",
   "execution_count": 67,
   "metadata": {},
   "outputs": [
    {
     "name": "stderr",
     "output_type": "stream",
     "text": [
      "C:\\ProgramData\\Anaconda3\\lib\\site-packages\\sklearn\\svm\\_base.py:985: ConvergenceWarning: Liblinear failed to converge, increase the number of iterations.\n",
      "  warnings.warn(\"Liblinear failed to converge, increase \"\n"
     ]
    },
    {
     "data": {
      "text/plain": [
       "LinearSVC()"
      ]
     },
     "execution_count": 67,
     "metadata": {},
     "output_type": "execute_result"
    }
   ],
   "source": [
    "smote=svm.LinearSVC()\n",
    "smote.fit(X_train_ns,y_train_ns)"
   ]
  },
  {
   "cell_type": "code",
   "execution_count": 68,
   "metadata": {
    "scrolled": true
   },
   "outputs": [
    {
     "name": "stdout",
     "output_type": "stream",
     "text": [
      "[[973   5   1   0   4   0]\n",
      " [  2 197   3   0   0   0]\n",
      " [  0   0 175   0   1   0]\n",
      " [  0   5   2 200   2   0]\n",
      " [  3   1   0   0 200   0]\n",
      " [  0   0   0   0   0 982]]\n",
      "0.989477503628447\n",
      "              precision    recall  f1-score   support\n",
      "\n",
      "           0       0.99      0.99      0.99       983\n",
      "           1       0.95      0.98      0.96       202\n",
      "           2       0.97      0.99      0.98       176\n",
      "           3       1.00      0.96      0.98       209\n",
      "           4       0.97      0.98      0.97       204\n",
      "           5       1.00      1.00      1.00       982\n",
      "\n",
      "    accuracy                           0.99      2756\n",
      "   macro avg       0.98      0.98      0.98      2756\n",
      "weighted avg       0.99      0.99      0.99      2756\n",
      "\n",
      "Accuracy :  98.95  %\n"
     ]
    }
   ],
   "source": [
    "y_pred8=smote.predict(X_test)\n",
    "print(confusion_matrix(y_test,y_pred8))\n",
    "print(accuracy_score(y_test,y_pred8))\n",
    "print(classification_report(y_test,y_pred8))\n",
    "smote_accuracy = round((accuracy_score(y_test, y_pred8)*100),2)\n",
    "\n",
    "print(\"Accuracy : \" , smote_accuracy , \" %\")"
   ]
  },
  {
   "cell_type": "code",
   "execution_count": 69,
   "metadata": {},
   "outputs": [
    {
     "data": {
      "text/plain": [
       "<AxesSubplot:>"
      ]
     },
     "execution_count": 69,
     "metadata": {},
     "output_type": "execute_result"
    },
    {
     "data": {
      "image/png": "[encoded data removed]",
      "text/plain": [
       "<Figure size 432x288 with 2 Axes>"
      ]
     },
     "metadata": {},
     "output_type": "display_data"
    }
   ],
   "source": [
    "matrix11 =confusion_matrix(y_test, y_pred8)\n",
    "df_cm = pd.DataFrame(matrix11, columns=['true', 'mostly_true','half_true','mostly_false','pants_fire','fake_dataset'], index=['true', 'mostly_true','half_true','mostly_false','pants_fire','fake_dataset'])\n",
    "sns.heatmap(df_cm, annot=True,cmap='Blues',fmt='g')"
   ]
  },
  {
   "cell_type": "markdown",
   "metadata": {},
   "source": [
    "### Cross Validation Like KFOLD and Hyperparameter Tuning"
   ]
  },
  {
   "cell_type": "code",
   "execution_count": 70,
   "metadata": {},
   "outputs": [],
   "source": [
    "from sklearn.model_selection import GridSearchCV"
   ]
  },
  {
   "cell_type": "code",
   "execution_count": 71,
   "metadata": {},
   "outputs": [],
   "source": [
    "svm = svm.LinearSVC()  \n",
    "grid={'C':10.0 **np.arange(-2,3),'penalty':['l1','l2']}\n",
    "cv=KFold(n_splits=10,random_state=None,shuffle=False)"
   ]
  },
  {
   "cell_type": "code",
   "execution_count": 72,
   "metadata": {},
   "outputs": [
    {
     "name": "stderr",
     "output_type": "stream",
     "text": [
      "C:\\ProgramData\\Anaconda3\\lib\\site-packages\\sklearn\\model_selection\\_search.py:918: UserWarning: One or more of the test scores are non-finite: [       nan 0.98256624        nan 0.98250108        nan 0.98275647\n",
      "        nan 0.98239787        nan 0.97727534]\n",
      "  warnings.warn(\n",
      "C:\\ProgramData\\Anaconda3\\lib\\site-packages\\sklearn\\svm\\_base.py:985: ConvergenceWarning: Liblinear failed to converge, increase the number of iterations.\n",
      "  warnings.warn(\"Liblinear failed to converge, increase \"\n"
     ]
    },
    {
     "data": {
      "text/plain": [
       "GridSearchCV(cv=KFold(n_splits=10, random_state=None, shuffle=False),\n",
       "             estimator=LinearSVC(), n_jobs=-1,\n",
       "             param_grid={'C': array([1.e-02, 1.e-01, 1.e+00, 1.e+01, 1.e+02]),\n",
       "                         'penalty': ['l1', 'l2']},\n",
       "             scoring='f1_macro')"
      ]
     },
     "execution_count": 72,
     "metadata": {},
     "output_type": "execute_result"
    }
   ],
   "source": [
    "clf=GridSearchCV(svm,grid,cv=cv,n_jobs=-1,scoring='f1_macro')\n",
    "clf.fit(X_train,y_train)"
   ]
  },
  {
   "cell_type": "code",
   "execution_count": 73,
   "metadata": {},
   "outputs": [
    {
     "name": "stdout",
     "output_type": "stream",
     "text": [
      "[[982   1   0   0   0   0]\n",
      " [  2 197   2   0   0   1]\n",
      " [  0   0 175   1   0   0]\n",
      " [  7   3   1 198   0   0]\n",
      " [  4   0   0   0 200   0]\n",
      " [  0   0   0   0   0 982]]\n",
      "0.9920174165457184\n",
      "              precision    recall  f1-score   support\n",
      "\n",
      "           0       0.99      1.00      0.99       983\n",
      "           1       0.98      0.98      0.98       202\n",
      "           2       0.98      0.99      0.99       176\n",
      "           3       0.99      0.95      0.97       209\n",
      "           4       1.00      0.98      0.99       204\n",
      "           5       1.00      1.00      1.00       982\n",
      "\n",
      "    accuracy                           0.99      2756\n",
      "   macro avg       0.99      0.98      0.99      2756\n",
      "weighted avg       0.99      0.99      0.99      2756\n",
      "\n",
      "Accuracy :  99.2  %\n"
     ]
    }
   ],
   "source": [
    "y_pred9=clf.predict(X_test)\n",
    "print(confusion_matrix(y_test,y_pred9))\n",
    "print(accuracy_score(y_test,y_pred9))\n",
    "print(classification_report(y_test,y_pred9))\n",
    "clf_accuracy = round((accuracy_score(y_test, y_pred9)*100),2)\n",
    "print(\"Accuracy : \" , clf_accuracy , \" %\")"
   ]
  },
  {
   "cell_type": "code",
   "execution_count": 74,
   "metadata": {},
   "outputs": [
    {
     "data": {
      "text/plain": [
       "<AxesSubplot:>"
      ]
     },
     "execution_count": 74,
     "metadata": {},
     "output_type": "execute_result"
    },
    {
     "data": {
      "image/png": "[encoded data removed]",
      "text/plain": [
       "<Figure size 432x288 with 2 Axes>"
      ]
     },
     "metadata": {},
     "output_type": "display_data"
    }
   ],
   "source": [
    "matrix12 =confusion_matrix(y_test, y_pred9)\n",
    "df_cm = pd.DataFrame(matrix12, columns=['true', 'mostly_true','half_true','mostly_false','pants_fire','fake_dataset'], index=['true', 'mostly_true','half_true','mostly_false','pants_fire','fake_dataset'])\n",
    "sns.heatmap(df_cm, annot=True,cmap='Blues',fmt='g')"
   ]
  },
  {
   "cell_type": "markdown",
   "metadata": {},
   "source": [
    "# Accuracies of models using imbalance techniques"
   ]
  },
  {
   "cell_type": "code",
   "execution_count": 75,
   "metadata": {},
   "outputs": [
    {
     "name": "stdout",
     "output_type": "stream",
     "text": [
      "Rank of models by Accuracies \n"
     ]
    },
    {
     "data": {
      "text/html": [
       "<div>\n",
       "<style scoped>\n",
       "    .dataframe tbody tr th:only-of-type {\n",
       "        vertical-align: middle;\n",
       "    }\n",
       "\n",
       "    .dataframe tbody tr th {\n",
       "        vertical-align: top;\n",
       "    }\n",
       "\n",
       "    .dataframe thead th {\n",
       "        text-align: right;\n",
       "    }\n",
       "</style>\n",
       "<table border=\"1\" class=\"dataframe\">\n",
       "  <thead>\n",
       "    <tr style=\"text-align: right;\">\n",
       "      <th></th>\n",
       "      <th>Models</th>\n",
       "      <th>Accuracies</th>\n",
       "    </tr>\n",
       "  </thead>\n",
       "  <tbody>\n",
       "    <tr>\n",
       "      <th>0</th>\n",
       "      <td>Balanced_weight Change</td>\n",
       "      <td>99.24</td>\n",
       "    </tr>\n",
       "    <tr>\n",
       "      <th>3</th>\n",
       "      <td>Manual_weight Change</td>\n",
       "      <td>99.09</td>\n",
       "    </tr>\n",
       "    <tr>\n",
       "      <th>1</th>\n",
       "      <td>Under Sampling</td>\n",
       "      <td>98.98</td>\n",
       "    </tr>\n",
       "    <tr>\n",
       "      <th>4</th>\n",
       "      <td>SMOTETomek</td>\n",
       "      <td>98.95</td>\n",
       "    </tr>\n",
       "    <tr>\n",
       "      <th>2</th>\n",
       "      <td>Over Sampling</td>\n",
       "      <td>98.91</td>\n",
       "    </tr>\n",
       "  </tbody>\n",
       "</table>\n",
       "</div>"
      ],
      "text/plain": [
       "                   Models  Accuracies\n",
       "0  Balanced_weight Change       99.24\n",
       "3    Manual_weight Change       99.09\n",
       "1          Under Sampling       98.98\n",
       "4              SMOTETomek       98.95\n",
       "2           Over Sampling       98.91"
      ]
     },
     "execution_count": 75,
     "metadata": {},
     "output_type": "execute_result"
    }
   ],
   "source": [
    "Models = pd.DataFrame({\n",
    "    'Models': ['Balanced_weight Change','Under Sampling','Over Sampling','Manual_weight Change','SMOTETomek'],\n",
    "    \n",
    "    'Accuracies': np.round([Bweight_changing_accuracy,underSample_accuracy,overSample_accuracy,Mweight_changing_accuracy,smote_accuracy],2)\n",
    "                     })\n",
    "print('Rank of models by Accuracies ')\n",
    "Models.sort_values(by=['Accuracies'],ascending=False) "
   ]
  },
  {
   "cell_type": "markdown",
   "metadata": {},
   "source": [
    "# Accuracies of models without imbalance techniques"
   ]
  },
  {
   "cell_type": "code",
   "execution_count": 76,
   "metadata": {},
   "outputs": [
    {
     "name": "stdout",
     "output_type": "stream",
     "text": [
      "Rank of models by Accuracies \n"
     ]
    },
    {
     "data": {
      "text/html": [
       "<div>\n",
       "<style scoped>\n",
       "    .dataframe tbody tr th:only-of-type {\n",
       "        vertical-align: middle;\n",
       "    }\n",
       "\n",
       "    .dataframe tbody tr th {\n",
       "        vertical-align: top;\n",
       "    }\n",
       "\n",
       "    .dataframe thead th {\n",
       "        text-align: right;\n",
       "    }\n",
       "</style>\n",
       "<table border=\"1\" class=\"dataframe\">\n",
       "  <thead>\n",
       "    <tr style=\"text-align: right;\">\n",
       "      <th></th>\n",
       "      <th>Models</th>\n",
       "      <th>Accuracies</th>\n",
       "    </tr>\n",
       "  </thead>\n",
       "  <tbody>\n",
       "    <tr>\n",
       "      <th>3</th>\n",
       "      <td>SVM</td>\n",
       "      <td>99.20</td>\n",
       "    </tr>\n",
       "    <tr>\n",
       "      <th>7</th>\n",
       "      <td>SVM Hyperparameter Tunning</td>\n",
       "      <td>99.20</td>\n",
       "    </tr>\n",
       "    <tr>\n",
       "      <th>4</th>\n",
       "      <td>Logistic Regression</td>\n",
       "      <td>99.09</td>\n",
       "    </tr>\n",
       "    <tr>\n",
       "      <th>5</th>\n",
       "      <td>Gradient Boosting Classifier</td>\n",
       "      <td>98.88</td>\n",
       "    </tr>\n",
       "    <tr>\n",
       "      <th>6</th>\n",
       "      <td>Easy Ensembling Classifier</td>\n",
       "      <td>98.80</td>\n",
       "    </tr>\n",
       "    <tr>\n",
       "      <th>2</th>\n",
       "      <td>Decision Tree</td>\n",
       "      <td>98.73</td>\n",
       "    </tr>\n",
       "    <tr>\n",
       "      <th>0</th>\n",
       "      <td>MultinomialNB</td>\n",
       "      <td>95.03</td>\n",
       "    </tr>\n",
       "    <tr>\n",
       "      <th>1</th>\n",
       "      <td>Random Forest</td>\n",
       "      <td>79.10</td>\n",
       "    </tr>\n",
       "  </tbody>\n",
       "</table>\n",
       "</div>"
      ],
      "text/plain": [
       "                         Models  Accuracies\n",
       "3                           SVM       99.20\n",
       "7    SVM Hyperparameter Tunning       99.20\n",
       "4           Logistic Regression       99.09\n",
       "5  Gradient Boosting Classifier       98.88\n",
       "6    Easy Ensembling Classifier       98.80\n",
       "2                 Decision Tree       98.73\n",
       "0                 MultinomialNB       95.03\n",
       "1                 Random Forest       79.10"
      ]
     },
     "execution_count": 76,
     "metadata": {},
     "output_type": "execute_result"
    }
   ],
   "source": [
    "Models = pd.DataFrame({\n",
    "    'Models': ['MultinomialNB','Random Forest','Decision Tree','SVM','Logistic Regression','Gradient Boosting Classifier','Easy Ensembling Classifier','SVM Hyperparameter Tunning'],\n",
    "    \n",
    "    'Accuracies': np.round([nab_accuracy,rf_accuracy,dt_accuracy,svm_accuracy,lg_accuracy,gbc_accuracy,ensemble_accuracy,clf_accuracy],2)\n",
    "                     })\n",
    "print('Rank of models by Accuracies ')\n",
    "Models.sort_values(by=['Accuracies'],ascending=False)"
   ]
  },
  {
   "cell_type": "markdown",
   "metadata": {},
   "source": [
    "# Taking user input in the form of url"
   ]
  },
  {
   "cell_type": "code",
   "execution_count": 77,
   "metadata": {},
   "outputs": [
    {
     "name": "stdout",
     "output_type": "stream",
     "text": [
      "\n",
      "Please enter URL of news article here  : https://www.politifact.com/factchecks/2022/jan/13/joe-biden/evidence-scant-joe-biden-was-arrested-protesting-c/\n"
     ]
    }
   ],
   "source": [
    "url_input = input(\"\\nPlease enter URL of news article here  : \").strip()"
   ]
  },
  {
   "cell_type": "code",
   "execution_count": 84,
   "metadata": {},
   "outputs": [],
   "source": [
    "from newspaper import Article\n",
    "url = url_input\n",
    "article = Article(url)\n",
    "article.download()\n",
    "article.html\n",
    "article.parse()\n",
    "title = article.title\n",
    "text = article.text"
   ]
  },
  {
   "cell_type": "code",
   "execution_count": 79,
   "metadata": {
    "scrolled": true
   },
   "outputs": [
    {
     "data": {
      "text/plain": [
       "['Evidence scant that Joe Biden was arrested protesting for civil rights • However, there is no evidence that Biden was actually arrested in either the legal sense or in how ordinary listeners would be likely to understand that term. At times, Biden himself has described the police’s actions as driving him home, rather than putting him under arrest.\\n\\n• Biden may have participated in one of two flare-ups over racial discrimination in housing near his home in Delaware when he was a teenager.\\n\\nWhen President Joe Biden went to Georgia to press for voting rights legislation, he made a passing reference to a moment from his past — the time he \"got arrested\" while protesting for civil rights.\\n\\nIt’s not the first time Biden has said he was arrested in his youth while protesting for civil rights. And it’s not the first time that the evidence to back up his assertion is scarce. He’s been called out repeatedly for decades by fact-checkers, including PolitiFact, for exaggerating his experiences with the civil rights movement and his interactions with law enforcement.\\n\\nBiden invoked the civil rights battles of the 1960s as he spoke on a campus shared by Morehouse College and Clark Atlanta University, two historically black colleges.\\n\\n\"I did not walk in the shoes of generations of students who walked these grounds,\" he said. \"But I walked other grounds. Because I’m so damn old, I was there as well.\" This drew laughs from the crowd. \"You think I’m kidding, man. It seems like yesterday the first time I got arrested. Anyway.\"\\n\\nWe reached out to the White House to clarify what arrest he was referring to, and they pointed to excerpts from three speeches Biden has made in recent years. They addressed an incident in Delaware in the 1950s in which people gathered to protest the sale of a home to a Black couple.\\n\\nPolice were called to the home as hundreds of people protested outside. There were a few arrests, but no evidence that Biden was among them.\\n\\nHow Biden described the incident\\n\\nIn the earliest of those speeches, at the Economic Club of Southwest Michigan on Oct. 16, 2018, Biden discussed the episode in the context of joining the ticket of Barack Obama, who would become the first Black president. Biden recalled the 2008 exchange with his mother, Catherine Eugenia Finnegan, who was then in her 90s:\\n\\n\"She said, ‘Joey, didn\\'t I call you about a month ago and ask you about Barack?’ I said, ‘Yeah, mom.’ She said, ‘Didn\\'t you say to me you thought he was really bright and had a great deal of integrity and would make a good president if he was the nominee?’ I said, ‘Yeah.’\\n\\n\"She said, ‘Joey, remember at 15 years old and that real estate agent sold a house to the Black couple in Lynnfield.’ … This was in suburban sprawl, the neighboring neighborhood. ‘I told you not to go down there because of the protests, and you went down and you got arrested because you were standing on the porch with the Black couple?’ I said, ‘Yeah, mom. I remember that.’\"\\n\\nBiden again used the word \"arrested\" when describing what his mother said about thday in another speech at an African Methodist Episcopal Church in Nevada on Feb. 16, 2020.\\n\\nBut Biden has not always used the term \"arrest\" when telling this story.\\n\\nOn Dec. 13, 2018, during remarks at the University of Utah, he recounted his mother saying, \"Remember I told you not to go down, and the police brought you back because you were standing on the front porch with the Black couple?\"\\n\\nHe used similar language in quoting his mother — the police \"brought you home,\" rather than \"arrested\" him — during a Zoom interview with Oprah Winfrey on Oct. 28, 2020, the Washington Post Fact Checker reported.\\n\\nBiden did not mention getting arrested when he recalled the discussions around joining the ticket with Obama in his 2017 memoir, \"Promise Me, Dad: A Year of Hope, Hardship, and Purpose.\"\\n\\nWhat does the documentary evidence show?\\n\\nContemporary newspaper articles confirm that there were protests at two homes near where Biden was growing up in Delaware in 1959. The larger one in Collins Park was at the home of a Black couple. The second, in suburban Carrcroft, was held at the home of the real estate broker who had sold that couple their home.\\n\\nThe News-Journal, a Wilmington newspaper, reported on Feb. 25, 1959, that seven arrests followed the protest at the Collins Park home — three men for disturbing the peace and four teenagers for possessing fireworks.\\n\\nAn Associated Press article on March 2, 1959, said that a 17-year-old — described as the son of a \"Harold Figgett\" — arrested for juvenile delinquency was among four people arrested that Saturday. (Biden would have been 16 at the time.) It also mentions the seven earlier arrests. No arrests were made at the Carrcroft home protest, the AP reported.\\n\\nSo there’s evidence that protests over racial discrimination in housing occurred in the general proximity of Biden’s home when he was a teenager. Biden’s home in Lynnfield was about 9 miles from the Collins Park home and a short walk away from the Carrcroft home, according to Google Maps.\\n\\nWas Biden arrested?\\n\\nThere is no record of Biden being arrested.\\n\\nRic Simmons, an Ohio State University law professor, said that if the police arrived to break up a disturbance, told everyone to disperse, offered to drive some of the people home, and Biden agreed to be driven home, then the ride would have been consensual and thus definitively not an arrest.\\n\\nIf the officer instead made clear to Biden that he did not have a choice and would be forcibly placed into the squad car if he refused, then Biden would have been \"seized.\" Not all seizures are arrests, Simmons said, but the argument for calling it an arrest would be stronger.\\n\\nHowever, Simmons added that this is a hyper-legal definition of arrest. It would be \"very unlikely,\" he said, that an ordinary person would consider being driven home by the police in this scenario — without a booking at the police station or any involvement with the courts — to be an \"arrest.\"\\n\\n\"If anything, Biden\\'s experience seems like the police officer made a conscious decision not to arrest — whether because Biden was a juvenile, or because the officer was sympathetic to Biden\\'s motivation, or because Biden\\'s actions did not constitute probable cause to believe a crime occured,\" Simmons said. \"So I think to call this an ‘arrest’ in the lay sense of the term is an exaggeration, to say the least. It would be more accurate to say he had a run-in with police, or that he was involved in an event in which the police had to intervene.\"\\n\\nMark Osler, a law professor at the University of St. Thomas, in Minnesota, added that how Biden perceived the events might be quite different from how outsiders would perceive them.\\n\\n\"While being driven home by the police probably isn’t viewed as an arrest by the police, it may feel that way to a young person,\" Osler said.\\n\\nPrevious controversies over Biden’s claims about civil rights activism\\n\\nThis is not the first time Biden has been challenged over whether he has been arrested in events surrounding civil rights.\\n\\nAt a campaign event in 2020, he said he had been arrested in South Africa in 1977 while attempting to see the then-imprisoned Black leader Nelson Mandela. PolitiFact rated this Pants on Fire. After multiple outlets fact-checked this claim, Biden clarified that he had been separated at the airport from a Black delegation he was traveling with.\\n\\nBiden has also been accused of embellishing his activism in the 1960s. During his 1988 campaign for president, Biden told crowds that he marched in the civil rights movement. Even though his advisers, according to the New York Times, \"gently reminded\" him that he hadn’t, Biden continued to make the claim.\\n\\nThen, during his 2020 presidential campaign, Biden told viewers of a virtual town hall with the NAACP that he \"got involved in the civil rights movement. Desegregating restaurants, that kind of thing.\" The Washington Post’s Fact-Checker gave that claim Two Pinocchios, writing that \"as far as we can determine, Biden participated in just one walk-out at one restaurant.\"\\n\\nBiden has twice made claims of being arrested for less serious reasons — once when he accompanied two women to their Ohio University dorm in 1963, and another time when he said he wandered onto the floor of the U.S. Senate as a 21-year-old. In both cases, he revised the story.\\n\\nOur ruling\\n\\nBiden said that as a youth, \"I got arrested\" protesting for civil rights.\\n\\nBiden may have participated in one of two flare-ups over racial discrimination in housing that occurred near his home in Delaware when he was in a teenager. However, there is no evidence that Biden was actually arrested in the sense of being booked at a police station and facing any consequences in the criminal justice system. At times, Biden himself has described the police’s actions as driving him home, rather than putting him under arrest.\\n\\nWe rate the statement False.\\n\\nCaryn Baird contributed to this article.']"
      ]
     },
     "execution_count": 79,
     "metadata": {},
     "output_type": "execute_result"
    }
   ],
   "source": [
    "news = title +' '+text\n",
    "news=[news]\n",
    "news"
   ]
  },
  {
   "cell_type": "code",
   "execution_count": 80,
   "metadata": {},
   "outputs": [
    {
     "data": {
      "text/plain": [
       "array([[ 3,  3,  4,  3, 11,  3, 18,  3,  5,  2, 42,  2,  3,  3,  2,  3,\n",
       "         6,  2,  2,  9,  5,  3,  3, 10, 10,  3,  3,  3,  6,  4,  4,  4,\n",
       "         2,  3,  3,  3,  3,  2,  2,  7,  3,  4,  2,  5,  4, 20,  2,  2,\n",
       "         2,  3,  3,  4,  3,  3,  3,  4,  2,  2,  3,  3,  3,  4, 14,  4,\n",
       "         3,  4,  4,  3,  2,  3,  3,  2,  2,  3,  3, 11,  3, 14,  3, 18,\n",
       "         3,  3,  3,  4,  2,  2,  2,  2,  2,  4,  3,  3,  7,  3,  5,  5,\n",
       "         3,  3,  3,  3]], dtype=int64)"
      ]
     },
     "execution_count": 80,
     "metadata": {},
     "output_type": "execute_result"
    }
   ],
   "source": [
    "word_vectorizer = CountVectorizer(\n",
    "    lowercase=True,\n",
    "    analyzer='word',\n",
    "    token_pattern=r'\\w{1,}',\n",
    "    stop_words='english',\n",
    "    ngram_range=(1, 2),\n",
    "    max_features =100)\n",
    "unigramdataGet= word_vectorizer.fit_transform(news)\n",
    "unigramdata = unigramdataGet.toarray()\n",
    "unigramdata"
   ]
  },
  {
   "cell_type": "code",
   "execution_count": 81,
   "metadata": {},
   "outputs": [],
   "source": [
    "model=pickle.load(open('SVM_model.pkl', 'rb'))"
   ]
  },
  {
   "cell_type": "code",
   "execution_count": 82,
   "metadata": {},
   "outputs": [
    {
     "name": "stdout",
     "output_type": "stream",
     "text": [
      "pants fire\n"
     ]
    }
   ],
   "source": [
    "predicted = model.predict(unigramdata)\n",
    "if(predicted == 0):\n",
    "    prediction = \"true\" \n",
    "if(predicted == 1):\n",
    "    prediction = \"mostly true\"\n",
    "if(predicted == 2):\n",
    "    prediction = \"half true\" \n",
    "if(predicted == 3):\n",
    "    prediction = \"mostly false\"\n",
    "if(predicted == 4):\n",
    "    prediction = \"pants fire\" \n",
    "if(predicted == 5):\n",
    "    prediction = \"false\"\n",
    "print(prediction)"
   ]
  },
  {
   "cell_type": "code",
   "execution_count": null,
   "metadata": {},
   "outputs": [],
   "source": []
  }
 ],
 "metadata": {
  "kernelspec": {
   "display_name": "Python 3",
   "language": "python",
   "name": "python3"
  },
  "language_info": {
   "codemirror_mode": {
    "name": "ipython",
    "version": 3
   },
   "file_extension": ".py",
   "mimetype": "text/x-python",
   "name": "python",
   "nbconvert_exporter": "python",
   "pygments_lexer": "ipython3",
   "version": "3.8.8"
  }
 },
 "nbformat": 4,
 "nbformat_minor": 4
}
